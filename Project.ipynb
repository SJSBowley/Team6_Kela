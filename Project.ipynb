{
 "cells": [
  {
   "cell_type": "markdown",
   "metadata": {},
   "source": [
    "### Libraries"
   ]
  },
  {
   "cell_type": "code",
   "execution_count": 2,
   "metadata": {
    "collapsed": true
   },
   "outputs": [],
   "source": [
    "import warnings\n",
    "warnings.filterwarnings('ignore')"
   ]
  },
  {
   "cell_type": "code",
   "execution_count": 3,
   "metadata": {
    "collapsed": false
   },
   "outputs": [
    {
     "name": "stderr",
     "output_type": "stream",
     "text": [
      "/Library/Frameworks/Python.framework/Versions/2.7/lib/python2.7/site-packages/sklearn/cross_validation.py:44: DeprecationWarning: This module was deprecated in version 0.18 in favor of the model_selection module into which all the refactored classes and functions are moved. Also note that the interface of the new CV iterators are different from that of this module. This module will be removed in 0.20.\n",
      "  \"This module will be removed in 0.20.\", DeprecationWarning)\n"
     ]
    }
   ],
   "source": [
    "import numpy as np\n",
    "import pandas as pd\n",
    "import scipy as sp\n",
    "from sklearn import preprocessing\n",
    "from sklearn.cross_validation import KFold\n",
    "from sklearn.linear_model import LogisticRegression\n",
    "from sklearn.discriminant_analysis import LinearDiscriminantAnalysis as LDA\n",
    "from sklearn.discriminant_analysis import QuadraticDiscriminantAnalysis as QDA\n",
    "from sklearn.neighbors import KNeighborsClassifier as KNN\n",
    "from sklearn.tree import DecisionTreeClassifier as DecisionTree\n",
    "from sklearn.ensemble import RandomForestClassifier\n",
    "from sklearn.svm import SVC\n",
    "from sklearn.cross_validation import train_test_split\n",
    "from sklearn.metrics import classification_report\n",
    "import matplotlib\n",
    "import matplotlib.pyplot as plt\n",
    "import seaborn as sns\n",
    "%matplotlib inline"
   ]
  },
  {
   "cell_type": "code",
   "execution_count": 4,
   "metadata": {
    "collapsed": false
   },
   "outputs": [
    {
     "name": "stderr",
     "output_type": "stream",
     "text": [
      "/Library/Frameworks/Python.framework/Versions/2.7/lib/python2.7/site-packages/sklearn/grid_search.py:43: DeprecationWarning: This module was deprecated in version 0.18 in favor of the model_selection module into which all the refactored classes and functions are moved. This module will be removed in 0.20.\n",
      "  DeprecationWarning)\n"
     ]
    }
   ],
   "source": [
    "#sys.path.append('../../wrapper')\n",
    "import xgboost as xgb\n",
    "from xgboost.sklearn import XGBClassifier\n",
    "from sklearn import cross_validation, metrics   #Additional scklearn functions\n",
    "from sklearn.grid_search import GridSearchCV   #Perforing grid search\n",
    "from sklearn.metrics import accuracy_score\n",
    "from sklearn.grid_search import GridSearchCV\n",
    "from sklearn.cross_validation import train_test_split\n",
    "from sklearn.metrics import confusion_matrix\n",
    "from sklearn.metrics import roc_curve\n",
    "from sklearn.metrics import cohen_kappa_score, make_scorer\n",
    "from sklearn import metrics\n",
    "from matplotlib import pyplot\n",
    "sns.set_style(\"whitegrid\")\n",
    "sns.set_context(\"poster\")"
   ]
  },
  {
   "cell_type": "code",
   "execution_count": 5,
   "metadata": {
    "collapsed": true
   },
   "outputs": [],
   "source": [
    "from sklearn.datasets import make_classification\n",
    "from sklearn.decomposition import PCA\n",
    "from imblearn.over_sampling import ADASYN\n",
    "from imblearn.combine import SMOTEENN\n",
    "from imblearn.over_sampling import RandomOverSampler\n",
    "from sklearn.externals import joblib\n",
    "sns.set()"
   ]
  },
  {
   "cell_type": "code",
   "execution_count": 6,
   "metadata": {
    "collapsed": true
   },
   "outputs": [],
   "source": [
    "matplotlib.style.use('ggplot')\n",
    "from matplotlib import rcParams\n",
    "rcParams['figure.figsize'] = (20, 10)\n",
    "rcParams['axes.facecolor'] = \"w\"\n",
    "rcParams['grid.color'] = \"gray\"\n",
    "rcParams['grid.linewidth'] = 0.5"
   ]
  },
  {
   "cell_type": "code",
   "execution_count": 7,
   "metadata": {
    "collapsed": true
   },
   "outputs": [],
   "source": [
    "import seaborn as sns\n",
    "sns.set(style=\"whitegrid\", color_codes=True)"
   ]
  },
  {
   "cell_type": "markdown",
   "metadata": {},
   "source": [
    "### Helper functions"
   ]
  },
  {
   "cell_type": "code",
   "execution_count": 8,
   "metadata": {
    "collapsed": true
   },
   "outputs": [],
   "source": [
    "#--------  fill_knn\n",
    "#input: missing_df (nx2 dataframe, some rows have missing y vals), \n",
    "#       full_df (nx2 dataframe, all rows have correct y vals), \n",
    "#       no_y_ind (indices of rows missing_df in with missing y values), \n",
    "#       with_y_ind (indices of rows missing_df in with out missing y values), \n",
    "#       k (integer)\n",
    "#output: predicted_df (dataframe), r (float)\n",
    "\n",
    "def fill_knn(missing_df, full_df, no_y_ind, with_y_ind, k):\n",
    "    #spliting data into train/test and preparing data in array form\n",
    "    \n",
    "    #training set\n",
    "    x_train = missing_df.loc[with_y_ind, 'x'].values\n",
    "    x_train = x_train.reshape((len(with_y_ind), 1)) #make this array 2D (row, column)\n",
    "    y_train = missing_df.loc[with_y_ind, 'y'].values\n",
    "    \n",
    "    #training set\n",
    "    x_test = missing_df.loc[no_y_ind, 'x'].values\n",
    "    x_test = x_test.reshape((len(no_y_ind), 1)) #make this array 2D (row, column)\n",
    "    y_test = full_df.loc[no_y_ind, 'y'].values\n",
    "    \n",
    "    #fit knn model\n",
    "    neighbours = KNN(n_neighbors=k)\n",
    "    neighbours.fit(x_train, y_train)\n",
    "    \n",
    "    #predict y-values\n",
    "    predicted_y = neighbours.predict(x_test)\n",
    "    \n",
    "    #score predictions\n",
    "    r = neighbours.score(x_test, y_test)\n",
    "    \n",
    "    #fill in missing y-values\n",
    "    predicted_df = missing_df.copy()\n",
    "    predicted_df.loc[no_y_ind, 'y'] = pd.Series(predicted_y, index=no_y_ind)\n",
    "    \n",
    "    return predicted_df, r"
   ]
  },
  {
   "cell_type": "code",
   "execution_count": 9,
   "metadata": {
    "collapsed": true
   },
   "outputs": [],
   "source": [
    "from sklearn.feature_extraction import DictVectorizer\n",
    " \n",
    "def encode_onehot(df, cols):\n",
    "    \"\"\"\n",
    "    One-hot encoding is applied to columns specified in a pandas DataFrame.\n",
    "    \n",
    "    \"\"\"\n",
    "    vec = DictVectorizer()\n",
    "    \n",
    "    vec_data = pd.DataFrame(vec.fit_transform(df[cols].to_dict(outtype='records')).toarray())\n",
    "    vec_data.columns = vec.get_feature_names()\n",
    "    vec_data.index = df.index\n",
    "    \n",
    "    df = df.drop(cols, axis=1)\n",
    "    df = df.join(vec_data)\n",
    "    return df"
   ]
  },
  {
   "cell_type": "code",
   "execution_count": 10,
   "metadata": {
    "collapsed": true
   },
   "outputs": [],
   "source": [
    "def clean_column_names(dataset):\n",
    "    '''\n",
    "    \n",
    "    '''\n",
    "    colnames = [\" \".join(str.strip(x).split()).replace(' ','_') for x in dataset.columns]\n",
    "    dataset.columns = colnames\n",
    "    \n",
    "    \n",
    "    return dataset\n",
    "\n"
   ]
  },
  {
   "cell_type": "code",
   "execution_count": null,
   "metadata": {
    "collapsed": true
   },
   "outputs": [],
   "source": []
  },
  {
   "cell_type": "markdown",
   "metadata": {},
   "source": [
    "### Loading the dataset"
   ]
  },
  {
   "cell_type": "code",
   "execution_count": 11,
   "metadata": {
    "collapsed": false
   },
   "outputs": [],
   "source": [
    "data_health_condition = pd.read_stata('ncds_archived_data_cfs_and_ibs_outcomes.dta')"
   ]
  },
  {
   "cell_type": "code",
   "execution_count": 12,
   "metadata": {
    "collapsed": false
   },
   "outputs": [
    {
     "data": {
      "text/html": [
       "<div>\n",
       "<table border=\"1\" class=\"dataframe\">\n",
       "  <thead>\n",
       "    <tr style=\"text-align: right;\">\n",
       "      <th></th>\n",
       "      <th>ncdsid</th>\n",
       "      <th>me</th>\n",
       "      <th>ibsoriginal</th>\n",
       "      <th>mal01backache</th>\n",
       "      <th>mal02tired</th>\n",
       "      <th>mal04headaches</th>\n",
       "      <th>mal06sleepingdifficulties</th>\n",
       "      <th>mal23rheumatism</th>\n",
       "      <th>ghqconcentration</th>\n",
       "      <th>cflikesymptoms</th>\n",
       "      <th>...</th>\n",
       "      <th>infecillness16y</th>\n",
       "      <th>childactive7</th>\n",
       "      <th>sport11</th>\n",
       "      <th>outdoorsport16</th>\n",
       "      <th>indoorsport16</th>\n",
       "      <th>sport23</th>\n",
       "      <th>exercisejob33</th>\n",
       "      <th>sport33</th>\n",
       "      <th>physicaljob42</th>\n",
       "      <th>sport42</th>\n",
       "    </tr>\n",
       "  </thead>\n",
       "  <tbody>\n",
       "    <tr>\n",
       "      <th>0</th>\n",
       "      <td>N10001N</td>\n",
       "      <td>no</td>\n",
       "      <td>no</td>\n",
       "      <td>no</td>\n",
       "      <td>yes</td>\n",
       "      <td>yes</td>\n",
       "      <td>no</td>\n",
       "      <td>no</td>\n",
       "      <td>no</td>\n",
       "      <td>1.0</td>\n",
       "      <td>...</td>\n",
       "      <td>0.0</td>\n",
       "      <td>normally active</td>\n",
       "      <td>most days</td>\n",
       "      <td>often</td>\n",
       "      <td>sometimes</td>\n",
       "      <td>no sport last 4 wks</td>\n",
       "      <td>no exercise</td>\n",
       "      <td>2-3 days a week</td>\n",
       "      <td>moderate amount</td>\n",
       "      <td>4-5 days a week</td>\n",
       "    </tr>\n",
       "    <tr>\n",
       "      <th>1</th>\n",
       "      <td>N10002P</td>\n",
       "      <td>no</td>\n",
       "      <td>no</td>\n",
       "      <td>no</td>\n",
       "      <td>no</td>\n",
       "      <td>no</td>\n",
       "      <td>no</td>\n",
       "      <td>no</td>\n",
       "      <td>no</td>\n",
       "      <td>0.0</td>\n",
       "      <td>...</td>\n",
       "      <td>0.0</td>\n",
       "      <td>normally active</td>\n",
       "      <td>hardly ever</td>\n",
       "      <td>hardly ever/no chance</td>\n",
       "      <td>hardly ever/no chance</td>\n",
       "      <td>no sport last 4 wks</td>\n",
       "      <td>no exercise</td>\n",
       "      <td>once a week</td>\n",
       "      <td>moderate amount</td>\n",
       "      <td>every day</td>\n",
       "    </tr>\n",
       "    <tr>\n",
       "      <th>2</th>\n",
       "      <td>N10003Q</td>\n",
       "      <td>NaN</td>\n",
       "      <td>NaN</td>\n",
       "      <td>NaN</td>\n",
       "      <td>NaN</td>\n",
       "      <td>NaN</td>\n",
       "      <td>NaN</td>\n",
       "      <td>NaN</td>\n",
       "      <td>NaN</td>\n",
       "      <td>NaN</td>\n",
       "      <td>...</td>\n",
       "      <td>0.0</td>\n",
       "      <td>normally active</td>\n",
       "      <td>hardly ever</td>\n",
       "      <td>hardly ever/no chance</td>\n",
       "      <td>hardly ever/no chance</td>\n",
       "      <td>NaN</td>\n",
       "      <td>NaN</td>\n",
       "      <td>NaN</td>\n",
       "      <td>NaN</td>\n",
       "      <td>NaN</td>\n",
       "    </tr>\n",
       "    <tr>\n",
       "      <th>3</th>\n",
       "      <td>N10004R</td>\n",
       "      <td>no</td>\n",
       "      <td>no</td>\n",
       "      <td>no</td>\n",
       "      <td>no</td>\n",
       "      <td>no</td>\n",
       "      <td>no</td>\n",
       "      <td>no</td>\n",
       "      <td>no</td>\n",
       "      <td>0.0</td>\n",
       "      <td>...</td>\n",
       "      <td>0.0</td>\n",
       "      <td>normally active</td>\n",
       "      <td>most days</td>\n",
       "      <td>often</td>\n",
       "      <td>sometimes</td>\n",
       "      <td>no sport last 4 wks</td>\n",
       "      <td>NaN</td>\n",
       "      <td>once a week</td>\n",
       "      <td>moderate amount</td>\n",
       "      <td>every day</td>\n",
       "    </tr>\n",
       "    <tr>\n",
       "      <th>4</th>\n",
       "      <td>N10005S</td>\n",
       "      <td>NaN</td>\n",
       "      <td>NaN</td>\n",
       "      <td>NaN</td>\n",
       "      <td>NaN</td>\n",
       "      <td>NaN</td>\n",
       "      <td>NaN</td>\n",
       "      <td>NaN</td>\n",
       "      <td>NaN</td>\n",
       "      <td>NaN</td>\n",
       "      <td>...</td>\n",
       "      <td>0.0</td>\n",
       "      <td>over active</td>\n",
       "      <td>sometimes</td>\n",
       "      <td>NaN</td>\n",
       "      <td>NaN</td>\n",
       "      <td>NaN</td>\n",
       "      <td>NaN</td>\n",
       "      <td>NaN</td>\n",
       "      <td>NaN</td>\n",
       "      <td>NaN</td>\n",
       "    </tr>\n",
       "  </tbody>\n",
       "</table>\n",
       "<p>5 rows × 198 columns</p>\n",
       "</div>"
      ],
      "text/plain": [
       "    ncdsid   me ibsoriginal mal01backache mal02tired mal04headaches  \\\n",
       "0  N10001N   no          no            no        yes            yes   \n",
       "1  N10002P   no          no            no         no             no   \n",
       "2  N10003Q  NaN         NaN           NaN        NaN            NaN   \n",
       "3  N10004R   no          no            no         no             no   \n",
       "4  N10005S  NaN         NaN           NaN        NaN            NaN   \n",
       "\n",
       "  mal06sleepingdifficulties mal23rheumatism ghqconcentration  cflikesymptoms  \\\n",
       "0                        no              no               no             1.0   \n",
       "1                        no              no               no             0.0   \n",
       "2                       NaN             NaN              NaN             NaN   \n",
       "3                        no              no               no             0.0   \n",
       "4                       NaN             NaN              NaN             NaN   \n",
       "\n",
       "        ...        infecillness16y     childactive7      sport11  \\\n",
       "0       ...                    0.0  normally active    most days   \n",
       "1       ...                    0.0  normally active  hardly ever   \n",
       "2       ...                    0.0  normally active  hardly ever   \n",
       "3       ...                    0.0  normally active    most days   \n",
       "4       ...                    0.0      over active    sometimes   \n",
       "\n",
       "          outdoorsport16          indoorsport16              sport23  \\\n",
       "0                  often              sometimes  no sport last 4 wks   \n",
       "1  hardly ever/no chance  hardly ever/no chance  no sport last 4 wks   \n",
       "2  hardly ever/no chance  hardly ever/no chance                  NaN   \n",
       "3                  often              sometimes  no sport last 4 wks   \n",
       "4                    NaN                    NaN                  NaN   \n",
       "\n",
       "  exercisejob33          sport33    physicaljob42          sport42  \n",
       "0   no exercise  2-3 days a week  moderate amount  4-5 days a week  \n",
       "1   no exercise      once a week  moderate amount        every day  \n",
       "2           NaN              NaN              NaN              NaN  \n",
       "3           NaN      once a week  moderate amount        every day  \n",
       "4           NaN              NaN              NaN              NaN  \n",
       "\n",
       "[5 rows x 198 columns]"
      ]
     },
     "execution_count": 12,
     "metadata": {},
     "output_type": "execute_result"
    }
   ],
   "source": [
    "data_health_condition.head()"
   ]
  },
  {
   "cell_type": "code",
   "execution_count": 13,
   "metadata": {
    "collapsed": false
   },
   "outputs": [],
   "source": [
    "data_main = pd.read_stata('ncds0123.dta',convert_categoricals=False)"
   ]
  },
  {
   "cell_type": "code",
   "execution_count": 14,
   "metadata": {
    "collapsed": false
   },
   "outputs": [
    {
     "data": {
      "text/plain": [
       "(18558, 1765)"
      ]
     },
     "execution_count": 14,
     "metadata": {},
     "output_type": "execute_result"
    }
   ],
   "source": [
    "data_main.shape"
   ]
  },
  {
   "cell_type": "code",
   "execution_count": 15,
   "metadata": {
    "collapsed": false
   },
   "outputs": [
    {
     "data": {
      "text/html": [
       "<div>\n",
       "<table border=\"1\" class=\"dataframe\">\n",
       "  <thead>\n",
       "    <tr style=\"text-align: right;\">\n",
       "      <th></th>\n",
       "      <th>ncdsid</th>\n",
       "      <th>n622</th>\n",
       "      <th>n0region</th>\n",
       "      <th>n1region</th>\n",
       "      <th>n2region</th>\n",
       "      <th>n3region</th>\n",
       "      <th>n553</th>\n",
       "      <th>n545</th>\n",
       "      <th>n520</th>\n",
       "      <th>n490</th>\n",
       "      <th>...</th>\n",
       "      <th>n1849</th>\n",
       "      <th>dvht07</th>\n",
       "      <th>dvht11</th>\n",
       "      <th>dvht16</th>\n",
       "      <th>dvrwt07</th>\n",
       "      <th>dvrwt11</th>\n",
       "      <th>dvrwt16</th>\n",
       "      <th>dvwt07</th>\n",
       "      <th>dvwt11</th>\n",
       "      <th>dvwt16</th>\n",
       "    </tr>\n",
       "  </thead>\n",
       "  <tbody>\n",
       "    <tr>\n",
       "      <th>0</th>\n",
       "      <td>N10001N</td>\n",
       "      <td>2.0</td>\n",
       "      <td>9.0</td>\n",
       "      <td>9.0</td>\n",
       "      <td>9.0</td>\n",
       "      <td>9.0</td>\n",
       "      <td>23.0</td>\n",
       "      <td>4.0</td>\n",
       "      <td>2.0</td>\n",
       "      <td>12.0</td>\n",
       "      <td>...</td>\n",
       "      <td>-1.0</td>\n",
       "      <td>1.219000</td>\n",
       "      <td>1.473</td>\n",
       "      <td>1.599999</td>\n",
       "      <td>110.347992</td>\n",
       "      <td>98.192993</td>\n",
       "      <td>105.056000</td>\n",
       "      <td>25.854996</td>\n",
       "      <td>37.648987</td>\n",
       "      <td>56.019989</td>\n",
       "    </tr>\n",
       "    <tr>\n",
       "      <th>1</th>\n",
       "      <td>N10002P</td>\n",
       "      <td>1.0</td>\n",
       "      <td>9.0</td>\n",
       "      <td>8.0</td>\n",
       "      <td>8.0</td>\n",
       "      <td>8.0</td>\n",
       "      <td>34.0</td>\n",
       "      <td>4.0</td>\n",
       "      <td>5.0</td>\n",
       "      <td>1.0</td>\n",
       "      <td>...</td>\n",
       "      <td>-1.0</td>\n",
       "      <td>1.346000</td>\n",
       "      <td>-1.000</td>\n",
       "      <td>-1.000000</td>\n",
       "      <td>90.865997</td>\n",
       "      <td>-1.000000</td>\n",
       "      <td>-1.000000</td>\n",
       "      <td>26.308990</td>\n",
       "      <td>-1.000000</td>\n",
       "      <td>-1.000000</td>\n",
       "    </tr>\n",
       "    <tr>\n",
       "      <th>2</th>\n",
       "      <td>N10003Q</td>\n",
       "      <td>1.0</td>\n",
       "      <td>4.0</td>\n",
       "      <td>4.0</td>\n",
       "      <td>4.0</td>\n",
       "      <td>4.0</td>\n",
       "      <td>34.0</td>\n",
       "      <td>4.0</td>\n",
       "      <td>10.0</td>\n",
       "      <td>1.0</td>\n",
       "      <td>...</td>\n",
       "      <td>-1.0</td>\n",
       "      <td>1.320999</td>\n",
       "      <td>1.499</td>\n",
       "      <td>1.879999</td>\n",
       "      <td>87.959991</td>\n",
       "      <td>96.404999</td>\n",
       "      <td>89.382996</td>\n",
       "      <td>24.493988</td>\n",
       "      <td>38.101990</td>\n",
       "      <td>66.679993</td>\n",
       "    </tr>\n",
       "    <tr>\n",
       "      <th>3</th>\n",
       "      <td>N10004R</td>\n",
       "      <td>2.0</td>\n",
       "      <td>1.0</td>\n",
       "      <td>1.0</td>\n",
       "      <td>1.0</td>\n",
       "      <td>1.0</td>\n",
       "      <td>26.0</td>\n",
       "      <td>4.0</td>\n",
       "      <td>11.0</td>\n",
       "      <td>1.0</td>\n",
       "      <td>...</td>\n",
       "      <td>-1.0</td>\n",
       "      <td>1.294999</td>\n",
       "      <td>1.511</td>\n",
       "      <td>1.629999</td>\n",
       "      <td>105.161987</td>\n",
       "      <td>111.588989</td>\n",
       "      <td>132.054993</td>\n",
       "      <td>28.122986</td>\n",
       "      <td>45.813995</td>\n",
       "      <td>72.799988</td>\n",
       "    </tr>\n",
       "    <tr>\n",
       "      <th>4</th>\n",
       "      <td>N10005S</td>\n",
       "      <td>2.0</td>\n",
       "      <td>10.0</td>\n",
       "      <td>10.0</td>\n",
       "      <td>10.0</td>\n",
       "      <td>10.0</td>\n",
       "      <td>25.0</td>\n",
       "      <td>4.0</td>\n",
       "      <td>1.0</td>\n",
       "      <td>3.0</td>\n",
       "      <td>...</td>\n",
       "      <td>-1.0</td>\n",
       "      <td>1.346000</td>\n",
       "      <td>-1.000</td>\n",
       "      <td>-1.000000</td>\n",
       "      <td>129.382996</td>\n",
       "      <td>-1.000000</td>\n",
       "      <td>-1.000000</td>\n",
       "      <td>37.648987</td>\n",
       "      <td>-1.000000</td>\n",
       "      <td>-1.000000</td>\n",
       "    </tr>\n",
       "  </tbody>\n",
       "</table>\n",
       "<p>5 rows × 1765 columns</p>\n",
       "</div>"
      ],
      "text/plain": [
       "    ncdsid  n622  n0region  n1region  n2region  n3region  n553  n545  n520  \\\n",
       "0  N10001N   2.0       9.0       9.0       9.0       9.0  23.0   4.0   2.0   \n",
       "1  N10002P   1.0       9.0       8.0       8.0       8.0  34.0   4.0   5.0   \n",
       "2  N10003Q   1.0       4.0       4.0       4.0       4.0  34.0   4.0  10.0   \n",
       "3  N10004R   2.0       1.0       1.0       1.0       1.0  26.0   4.0  11.0   \n",
       "4  N10005S   2.0      10.0      10.0      10.0      10.0  25.0   4.0   1.0   \n",
       "\n",
       "   n490    ...      n1849    dvht07  dvht11    dvht16     dvrwt07     dvrwt11  \\\n",
       "0  12.0    ...       -1.0  1.219000   1.473  1.599999  110.347992   98.192993   \n",
       "1   1.0    ...       -1.0  1.346000  -1.000 -1.000000   90.865997   -1.000000   \n",
       "2   1.0    ...       -1.0  1.320999   1.499  1.879999   87.959991   96.404999   \n",
       "3   1.0    ...       -1.0  1.294999   1.511  1.629999  105.161987  111.588989   \n",
       "4   3.0    ...       -1.0  1.346000  -1.000 -1.000000  129.382996   -1.000000   \n",
       "\n",
       "      dvrwt16     dvwt07     dvwt11     dvwt16  \n",
       "0  105.056000  25.854996  37.648987  56.019989  \n",
       "1   -1.000000  26.308990  -1.000000  -1.000000  \n",
       "2   89.382996  24.493988  38.101990  66.679993  \n",
       "3  132.054993  28.122986  45.813995  72.799988  \n",
       "4   -1.000000  37.648987  -1.000000  -1.000000  \n",
       "\n",
       "[5 rows x 1765 columns]"
      ]
     },
     "execution_count": 15,
     "metadata": {},
     "output_type": "execute_result"
    }
   ],
   "source": [
    "data_main.head()"
   ]
  },
  {
   "cell_type": "code",
   "execution_count": 16,
   "metadata": {
    "collapsed": false
   },
   "outputs": [
    {
     "name": "stdout",
     "output_type": "stream",
     "text": [
      "(18558, 1962)\n"
     ]
    },
    {
     "data": {
      "text/html": [
       "<div>\n",
       "<table border=\"1\" class=\"dataframe\">\n",
       "  <thead>\n",
       "    <tr style=\"text-align: right;\">\n",
       "      <th></th>\n",
       "      <th>ncdsid</th>\n",
       "      <th>n622</th>\n",
       "      <th>n0region</th>\n",
       "      <th>n1region</th>\n",
       "      <th>n2region</th>\n",
       "      <th>n3region</th>\n",
       "      <th>n553</th>\n",
       "      <th>n545</th>\n",
       "      <th>n520</th>\n",
       "      <th>n490</th>\n",
       "      <th>...</th>\n",
       "      <th>infecillness16y</th>\n",
       "      <th>childactive7</th>\n",
       "      <th>sport11</th>\n",
       "      <th>outdoorsport16</th>\n",
       "      <th>indoorsport16</th>\n",
       "      <th>sport23</th>\n",
       "      <th>exercisejob33</th>\n",
       "      <th>sport33</th>\n",
       "      <th>physicaljob42</th>\n",
       "      <th>sport42</th>\n",
       "    </tr>\n",
       "  </thead>\n",
       "  <tbody>\n",
       "    <tr>\n",
       "      <th>0</th>\n",
       "      <td>N10001N</td>\n",
       "      <td>2.0</td>\n",
       "      <td>9.0</td>\n",
       "      <td>9.0</td>\n",
       "      <td>9.0</td>\n",
       "      <td>9.0</td>\n",
       "      <td>23.0</td>\n",
       "      <td>4.0</td>\n",
       "      <td>2.0</td>\n",
       "      <td>12.0</td>\n",
       "      <td>...</td>\n",
       "      <td>0.0</td>\n",
       "      <td>normally active</td>\n",
       "      <td>most days</td>\n",
       "      <td>often</td>\n",
       "      <td>sometimes</td>\n",
       "      <td>no sport last 4 wks</td>\n",
       "      <td>no exercise</td>\n",
       "      <td>2-3 days a week</td>\n",
       "      <td>moderate amount</td>\n",
       "      <td>4-5 days a week</td>\n",
       "    </tr>\n",
       "    <tr>\n",
       "      <th>1</th>\n",
       "      <td>N10002P</td>\n",
       "      <td>1.0</td>\n",
       "      <td>9.0</td>\n",
       "      <td>8.0</td>\n",
       "      <td>8.0</td>\n",
       "      <td>8.0</td>\n",
       "      <td>34.0</td>\n",
       "      <td>4.0</td>\n",
       "      <td>5.0</td>\n",
       "      <td>1.0</td>\n",
       "      <td>...</td>\n",
       "      <td>0.0</td>\n",
       "      <td>normally active</td>\n",
       "      <td>hardly ever</td>\n",
       "      <td>hardly ever/no chance</td>\n",
       "      <td>hardly ever/no chance</td>\n",
       "      <td>no sport last 4 wks</td>\n",
       "      <td>no exercise</td>\n",
       "      <td>once a week</td>\n",
       "      <td>moderate amount</td>\n",
       "      <td>every day</td>\n",
       "    </tr>\n",
       "    <tr>\n",
       "      <th>2</th>\n",
       "      <td>N10003Q</td>\n",
       "      <td>1.0</td>\n",
       "      <td>4.0</td>\n",
       "      <td>4.0</td>\n",
       "      <td>4.0</td>\n",
       "      <td>4.0</td>\n",
       "      <td>34.0</td>\n",
       "      <td>4.0</td>\n",
       "      <td>10.0</td>\n",
       "      <td>1.0</td>\n",
       "      <td>...</td>\n",
       "      <td>0.0</td>\n",
       "      <td>normally active</td>\n",
       "      <td>hardly ever</td>\n",
       "      <td>hardly ever/no chance</td>\n",
       "      <td>hardly ever/no chance</td>\n",
       "      <td>NaN</td>\n",
       "      <td>NaN</td>\n",
       "      <td>NaN</td>\n",
       "      <td>NaN</td>\n",
       "      <td>NaN</td>\n",
       "    </tr>\n",
       "    <tr>\n",
       "      <th>3</th>\n",
       "      <td>N10004R</td>\n",
       "      <td>2.0</td>\n",
       "      <td>1.0</td>\n",
       "      <td>1.0</td>\n",
       "      <td>1.0</td>\n",
       "      <td>1.0</td>\n",
       "      <td>26.0</td>\n",
       "      <td>4.0</td>\n",
       "      <td>11.0</td>\n",
       "      <td>1.0</td>\n",
       "      <td>...</td>\n",
       "      <td>0.0</td>\n",
       "      <td>normally active</td>\n",
       "      <td>most days</td>\n",
       "      <td>often</td>\n",
       "      <td>sometimes</td>\n",
       "      <td>no sport last 4 wks</td>\n",
       "      <td>NaN</td>\n",
       "      <td>once a week</td>\n",
       "      <td>moderate amount</td>\n",
       "      <td>every day</td>\n",
       "    </tr>\n",
       "    <tr>\n",
       "      <th>4</th>\n",
       "      <td>N10005S</td>\n",
       "      <td>2.0</td>\n",
       "      <td>10.0</td>\n",
       "      <td>10.0</td>\n",
       "      <td>10.0</td>\n",
       "      <td>10.0</td>\n",
       "      <td>25.0</td>\n",
       "      <td>4.0</td>\n",
       "      <td>1.0</td>\n",
       "      <td>3.0</td>\n",
       "      <td>...</td>\n",
       "      <td>0.0</td>\n",
       "      <td>over active</td>\n",
       "      <td>sometimes</td>\n",
       "      <td>NaN</td>\n",
       "      <td>NaN</td>\n",
       "      <td>NaN</td>\n",
       "      <td>NaN</td>\n",
       "      <td>NaN</td>\n",
       "      <td>NaN</td>\n",
       "      <td>NaN</td>\n",
       "    </tr>\n",
       "  </tbody>\n",
       "</table>\n",
       "<p>5 rows × 1962 columns</p>\n",
       "</div>"
      ],
      "text/plain": [
       "    ncdsid  n622  n0region  n1region  n2region  n3region  n553  n545  n520  \\\n",
       "0  N10001N   2.0       9.0       9.0       9.0       9.0  23.0   4.0   2.0   \n",
       "1  N10002P   1.0       9.0       8.0       8.0       8.0  34.0   4.0   5.0   \n",
       "2  N10003Q   1.0       4.0       4.0       4.0       4.0  34.0   4.0  10.0   \n",
       "3  N10004R   2.0       1.0       1.0       1.0       1.0  26.0   4.0  11.0   \n",
       "4  N10005S   2.0      10.0      10.0      10.0      10.0  25.0   4.0   1.0   \n",
       "\n",
       "   n490       ...         infecillness16y     childactive7      sport11  \\\n",
       "0  12.0       ...                     0.0  normally active    most days   \n",
       "1   1.0       ...                     0.0  normally active  hardly ever   \n",
       "2   1.0       ...                     0.0  normally active  hardly ever   \n",
       "3   1.0       ...                     0.0  normally active    most days   \n",
       "4   3.0       ...                     0.0      over active    sometimes   \n",
       "\n",
       "          outdoorsport16          indoorsport16              sport23  \\\n",
       "0                  often              sometimes  no sport last 4 wks   \n",
       "1  hardly ever/no chance  hardly ever/no chance  no sport last 4 wks   \n",
       "2  hardly ever/no chance  hardly ever/no chance                  NaN   \n",
       "3                  often              sometimes  no sport last 4 wks   \n",
       "4                    NaN                    NaN                  NaN   \n",
       "\n",
       "   exercisejob33          sport33    physicaljob42          sport42  \n",
       "0    no exercise  2-3 days a week  moderate amount  4-5 days a week  \n",
       "1    no exercise      once a week  moderate amount        every day  \n",
       "2            NaN              NaN              NaN              NaN  \n",
       "3            NaN      once a week  moderate amount        every day  \n",
       "4            NaN              NaN              NaN              NaN  \n",
       "\n",
       "[5 rows x 1962 columns]"
      ]
     },
     "execution_count": 16,
     "metadata": {},
     "output_type": "execute_result"
    }
   ],
   "source": [
    "extended_df = pd.merge(data_main, data_health_condition, on='ncdsid', how='outer')\n",
    "print (extended_df.shape)\n",
    "extended_df.head()"
   ]
  },
  {
   "cell_type": "markdown",
   "metadata": {},
   "source": [
    "### Extract Epilepsy and Seizure information"
   ]
  },
  {
   "cell_type": "markdown",
   "metadata": {},
   "source": [
    " - 1-\tOur target response variable Y is a column with two values 1 and 0. \n",
    "\n",
    " - 2-\tY = 0 if patient had seizure before  but didn’t end with epileptic condition.\n",
    "\n",
    " - 3-\tY = 1 if patient had seizure before  and end with epileptic condition.\n",
    "\n",
    " - 4-\tLet’s say Y_Seizure variable represent patient had seizure before.\n",
    "\n",
    " - 5-\tLet’s say Y_Epilepsy variable represent patient is epileptic\n",
    "\n",
    " - 6-\tSo in order to calculate Y we need to calculate Y_Seizure and Y_Epilepsy\n",
    "\n",
    " - 7-\tIn our data set we have three columns already calculated for epilepsy7,epilepsy11, and epilepsy16 \n",
    "\n",
    " - 8-\tY_epilepsy = 1  if epilepsy7=1 or epilepsy11 =1 or  epilepsy16 = 1\n",
    "\n",
    " - 9-\tNow In order to calculate Y_Seizure we will follow the same idea by create three variable seizure7, seizure11, seizure16\n",
    "\n",
    " - 10-\tFor example seizure7 =1 if the patient had any seizure from age 0 to age 7\n",
    "\n",
    " - 11-\tIn the dataset they calculate for epilepsy7,epilepsy11, and epilepsy16  as condition of many other variables , for example they calculated epilepsy16 =1 if ((n1307=1) OR (n1308=1) OR (n1307=2) OR (n1308=2) OR (n1307=3) OR (n1308=3)) Epilepsy11=1.\n",
    "\n",
    " - 12-\tWe will following the same approach to calculate seizure7, seizure11, seizure16\n",
    "\n",
    " - 13-\tFor example seizure7 will equal to 1 if \n",
    " \n",
    " (extended_df.n1831 == 3)    # 0 Illness noted in PMS-MC1:3              Value = 3.0    Label = Convulsions etc.\n",
    "\n",
    "| (extended_df.n1832 == 3)    # 0 Illness noted in PMS-MC2:3              Value = 3.0    Label = Convulsions etc.\n",
    "\n",
    "| (extended_df.n1833 == 3)    # 0 Illness noted in PMS-MC3:3              Value = 3.0    Label = Convulsions etc.\n",
    "\n",
    "| (extended_df.n274  == 2)    # 1P Fit or convulsion in 1st year of life  Value = 2.0    Label = Yes\n",
    "\n",
    "| (extended_df.n275  == 2)    # 1P Fit or convulsion after 1st year       Value = 2.0    Label = Yes\n",
    "\n",
    "| (extended_df.n390 == 10)    # 1M Reason for Special Education MC1:3     Value = 10.0   Label = Epileptic\n",
    "\n",
    "| (extended_df.n391 == 10)    # 1M Reason for Special Education MC2:3     Value = 10.0   Label = Epileptic\n",
    "\n",
    "| (extended_df.n392 == 10)    # 1M Reason for Special Education MC3:3     Value = 10.0   Label = Epileptic\n",
    "\n",
    "\n",
    "         \n",
    "\n",
    " - 14-\tWe will calculate seizure11 and seizure16 using the same approach ( I will send the equation soon today)\n",
    "\n",
    " - 15-\tY_Seizure = 1 if seizure7= 1 or  seizure11 = 1  or seizure16 =1\n",
    "\n",
    " - 16-\tFor Y_Seizure = 0   ---> remove the row for the dataset\n",
    "\n",
    " - 17-\tFor Y_seizure=1  and Y_Epilepsy = 0   --->  Y= 0\n",
    "\n",
    " - 18-\tFor Y_seizure=1  and Y_Epilepsy = 1   --->  Y= 1"
   ]
  },
  {
   "cell_type": "code",
   "execution_count": 17,
   "metadata": {
    "collapsed": true
   },
   "outputs": [],
   "source": [
    "epilepsy_response=extended_df[['epilepsy7','epilepsy11','epilepsy16' ]]"
   ]
  },
  {
   "cell_type": "code",
   "execution_count": 18,
   "metadata": {
    "collapsed": false
   },
   "outputs": [
    {
     "data": {
      "text/plain": [
       "(18558, 3)"
      ]
     },
     "execution_count": 18,
     "metadata": {},
     "output_type": "execute_result"
    }
   ],
   "source": [
    "epilepsy_response.shape"
   ]
  },
  {
   "cell_type": "code",
   "execution_count": 19,
   "metadata": {
    "collapsed": false
   },
   "outputs": [
    {
     "data": {
      "text/plain": [
       "0    17590\n",
       "1      968\n",
       "Name: seizure7, dtype: int64"
      ]
     },
     "execution_count": 19,
     "metadata": {},
     "output_type": "execute_result"
    }
   ],
   "source": [
    "epilepsy_response['seizure7']=((extended_df.n1831 == 3)    # 0 Illness noted in PMS-MC1:3              Value = 3.0   Label = Convulsions etc.\n",
    "                      | (extended_df.n1832 == 3)    # 0 Illness noted in PMS-MC2:3              Value = 3.0   Label = Convulsions etc.\n",
    "                      | (extended_df.n1833 == 3)    # 0 Illness noted in PMS-MC3:3              Value = 3.0   Label = Convulsions etc.\n",
    "                      | (extended_df.n274  == 2)    # 1P Fit or convulsion in 1st year of life  Value = 2.0    Label = Yes\n",
    "                      | (extended_df.n275  == 2)    # 1P Fit or convulsion after 1st year       Value = 2.0\t   Label = Yes\n",
    "                      | (extended_df.n390 == 10)    # 1M Reason for Special Education MC1:3     Value = 10.0   Label = Epileptic\n",
    "                      | (extended_df.n391 == 10)    # 1M Reason for Special Education MC2:3     Value = 10.0   Label = Epileptic\n",
    "                      | (extended_df.n392 == 10)    # 1M Reason for Special Education MC3:3     Value = 10.0   Label = Epileptic\n",
    "                      | ((extended_df.n1314 >=0) & (extended_df.n1314 <= 7))    # 2P Age at most recent epilepsy attack\n",
    "                      | ((extended_df.n1317 >=0) & (extended_df.n1317 <= 7))     # 2P Age at 1st epilepsy attack\n",
    "                      | (extended_df.n1502 ==2)      # 2M Has child ever had convulsions\n",
    "                      | (extended_df.n1502 ==4)      # 2M Has child ever had convulsions\n",
    "                      | ((extended_df.n2615 >= 1) & (extended_df.n2615 <= 4))   # 3P When convulsions,fits 1st occured\n",
    "                      | ((extended_df.n2616 >= 1) & (extended_df.n2616 <= 4))  #3P Convulsions-most recent occurrence                      \n",
    "\n",
    "                     )*1\n",
    "epilepsy_response.seizure7.value_counts()\n"
   ]
  },
  {
   "cell_type": "code",
   "execution_count": 20,
   "metadata": {
    "collapsed": false
   },
   "outputs": [
    {
     "data": {
      "text/plain": [
       "0    17925\n",
       "1      633\n",
       "Name: seizure11, dtype: int64"
      ]
     },
     "execution_count": 20,
     "metadata": {},
     "output_type": "execute_result"
    }
   ],
   "source": [
    "epilepsy_response['seizure11']=(  (extended_df.n1477 == 7)    # 2M Reason for special education - MC1:3    Value = 7.0\tLabel = Epileptic\n",
    "                       | (extended_df.n1478 == 7)    # 2M Reason for special education - MC2:3    Value = 7.0\tLabel = Epileptic\n",
    "                       | (extended_df.n1479 == 7)    # 2M Reason for special education - MC3:3    Value = 7.0\tLabel = Epileptic\n",
    "                       | (extended_df.n1307 == 1)     # 2P Has child had epilepsy attacks-MC 1:3\n",
    "                       | (extended_df.n1307 == 2)     # 2P Has child had epilepsy attacks-MC 1:3\n",
    "                       | (extended_df.n1307 == 3)     # 2P Has child had epilepsy attacks-MC 1:3\n",
    "                       | (extended_df.n1308 == 1)     # 2P Has child had epilepsy attacks-MC 2:3\n",
    "                       | (extended_df.n1308 == 2)     # 2P Has child had epilepsy attacks-MC 2:3\n",
    "                       | (extended_df.n1308 == 3)     # 2P Has child had epilepsy attacks-MC 2:3\n",
    "                       | (extended_df.n1309 == 1)     # 2P Has child had epilepsy attacks-MC 3:3\n",
    "                       | (extended_df.n1309 == 2)     # 2P Has child had epilepsy attacks-MC 3:3\n",
    "                       | (extended_df.n1309 == 3)     # 2P Has child had epilepsy attacks-MC 3:3\n",
    "                       | ((extended_df.n1314 >= 8) & (extended_df.n1314 <= 11))   # 2P Age at most recent epilepsy attack\n",
    "                       | ((extended_df.n1317 >= 8) & (extended_df.n1317 <= 11))   # 2P Age at 1st epilepsy attack\n",
    "                       | (extended_df.n1321 == 8)    # 2P Reason for absence from school-MC 1:5   Value = 8.0\tLabel = Convulsions\n",
    "                       | (extended_df.n1322 == 8)    # 2P Reason for absence from school-MC 2:5   Value = 8.0\tLabel = Convulsions\n",
    "                       | (extended_df.n1323 == 8)    # 2P Reason for absence from school-MC 3:5   Value = 8.0\tLabel = Convulsions\n",
    "                       | (extended_df.n1324 == 8)    # 2P Reason for absence from school-MC 4:5   Value = 8.0\tLabel = Convulsions\n",
    "                       | (extended_df.n1325 == 8)    # 2P Reason for absence from school-MC 5:5   Value = 8.0\tLabel = Convulsions\n",
    "                       | (extended_df.n1337 == 1)    # 2P Reason for prescription  M:C 1-2        Value = 1.0\tLabel = Convulsions etc.\n",
    "                       | (extended_df.n1338 == 8)    # 2P Reason for prescription  M:C 2-2        Value = 1.0\tLabel = Convulsions etc.\n",
    "                       | (extended_df.n1394 == 2)    # 2P Ever seen specialist-convulsions,fits   Value = 2,3,5\n",
    "                       | (extended_df.n1394 == 3)    # 2P Ever seen specialist-convulsions,fits   Value = 2,3,5\n",
    "                       | (extended_df.n1394 == 5)    # 2P Ever seen specialist-convulsions,fits   Value = 2,3,5\n",
    "                       | (extended_df.n1502 == 3)     # 2M Has child ever had convulsions\n",
    "                       | (extended_df.n1502 == 4)     # 2M Has child ever had convulsions\n",
    "                       | (extended_df.n2615 == 5)    # 3P When convulsions,fits 1st occured  Value = 5.0\tLabel = Between 7&11 yrs\n",
    "                       | (extended_df.n2616 == 5)    # 3P Convulsions-most recent occurrence Value = 5.0\tLabel = Between 7&11 yrs                       \n",
    "                     )*1\n",
    "epilepsy_response.seizure11.value_counts()\n"
   ]
  },
  {
   "cell_type": "code",
   "execution_count": 21,
   "metadata": {
    "collapsed": false
   },
   "outputs": [
    {
     "data": {
      "text/plain": [
       "0    17922\n",
       "1      636\n",
       "Name: seizure16, dtype: int64"
      ]
     },
     "execution_count": 21,
     "metadata": {},
     "output_type": "execute_result"
    }
   ],
   "source": [
    "epilepsy_response['seizure16']=(  (extended_df.n1893 == 8)    # 3M Category of child's handicap MC1:3   Value = 8.0\tLabel = Epileptic\n",
    "                       | (extended_df.n1894 == 8)    # 3M Category of child's handicap MC2:3   Value = 8.0\tLabel = Epileptic\n",
    "                       | (extended_df.n1895 == 8)    # 3M Category of child's handicap MC3:3   Value = 8.0\tLabel = Epileptic\n",
    "                       | (extended_df.n2663 == 7)    # 3P Nature of child-s disability-MC 1:5   Value = 7.0\tLabel = Epilepsy\n",
    "                       | (extended_df.n2664 == 7)    # 3P Nature of child-s disability-MC 2:5   Value = 7.0\tLabel = Epilepsy\n",
    "                       | (extended_df.n2665 == 7)    # 3P Nature of child-s disability-MC 3:5   Value = 7.0\tLabel = Epilepsy\n",
    "                       | (extended_df.n2666 == 7)    # 3P Nature of child-s disability-MC 4:5   Value = 7.0\tLabel = Epilepsy\n",
    "                       | (extended_df.n2667 == 7)    # 3P Nature of child-s disability-MC 5:5   Value = 7.0\tLabel = Epilepsy\n",
    "                       | (extended_df.n1904 == 17)     # 3M Reason for hosp admiss last 12 mnths Value = 17.0\tLabel = Epilepsy\n",
    "                       | (extended_df.n1910 == 17)     # 3M Reason hosp outpatient last yr      Value = 17.0\tLabel = Epilepsy\n",
    "                       | (extended_df.n2032 == 3)     # 3M Epilepsy  Value = 3.0\tLabel = Cond,no handcp\n",
    "                       | (extended_df.n2032 == 4)     # 3M Epilepsy  Value = 4.0\tLabel = Slight handicap\n",
    "                       | (extended_df.n2032 == 5)     # 3M Epilepsy  Value = 5.0\tLabel = Moderate handicp\n",
    "                       | (extended_df.n2032 == 6)     # 3M Epilepsy  Value = 6.0\tLabel = Severe handicap\n",
    "                       | (extended_df.n2032 == 7)     # 3M Epilepsy  Value = 7.0\tLabel = Cond,DK degree\n",
    "                       | (extended_df.n2554 == 3)     # 3P Reason for absence from school-MC 1:6   Value = 11.0\tLabel = Convulsions,fits\n",
    "                       | (extended_df.n2555 == 3)     # 3P Reason for absence from school-MC 2:6   Value = 11.0\tLabel = Convulsions,fits\n",
    "                       | (extended_df.n2556 == 3)     # 3P Reason for absence from school-MC 3:6   Value = 11.0\tLabel = Convulsions,fits\n",
    "                       | (extended_df.n2557 == 3)     # 3P Reason for absence from school-MC 4:6   Value = 11.0\tLabel = Convulsions,fits\n",
    "                       | (extended_df.n2558 == 3)     # 3P Reason for absence from school-MC 5:6   Value = 11.0\tLabel = Convulsions,fits\n",
    "                       | (extended_df.n2559 == 3)     # 3P Reason for absence from school-MC 6:6   Value = 11.0\tLabel = Convulsions,fits\n",
    "                       | (extended_df.n2598 == 7)    # 3P Hospital admissions,general-MC 1:4  Value = 7.0\tLabel = Convulsions\n",
    "                       | (extended_df.n2599 == 7)    # 3P Hospital admissions,general-MC 1:4  Value = 7.0\tLabel = Convulsions\n",
    "                       | (extended_df.n2600 == 7)    # 3P Hospital admissions,general-MC 1:4  Value = 7.0\tLabel = Convulsions\n",
    "                       | (extended_df.n2601 == 7)    # 3P Hospital admissions,general-MC 1:4  Value = 7.0\tLabel = Convulsions\n",
    "                       | (extended_df.n2603 == 10)   # 3P Hosp outpatient,diagnosed cond-MC 1:6   Value = 10.0\tLabel = Convulsions\n",
    "                       | (extended_df.n2604 == 10)   # 3P Hosp outpatient,diagnosed cond-MC 2:6   Value = 10.0\tLabel = Convulsions\n",
    "                       | (extended_df.n2605 == 10)   # 3P Hosp outpatient,diagnosed cond-MC 3:6   Value = 10.0\tLabel = Convulsions\n",
    "                       | (extended_df.n2606 == 10)   # 3P Hosp outpatient,diagnosed cond-MC 4:6   Value = 10.0\tLabel = Convulsions\n",
    "                       | (extended_df.n2607 == 10)   # 3P Hosp outpatient,diagnosed cond-MC 5:6   Value = 10.0\tLabel = Convulsions\n",
    "                       | (extended_df.n2608 == 10)   # 3P Hosp outpatient,diagnosed cond-MC 6:6   Value = 10.0\tLabel = Convulsions\n",
    "                       | (extended_df.n2614 == 1)    # 3P Convulsions,fits-unconsciousness   Value = 1.0\tLabel = Yes\n",
    "                       | (extended_df.n2615 == 6)   # 3P When convulsions,fits 1st occured Value = 6.0\tLabel = Since 11th year\n",
    "                       | (extended_df.n2616 == 6)    # 3P Convulsions-most recent occurrence  Value = 6.0\tLabel = 11+, nt past yr\n",
    "                       | (extended_df.n2616 == 7)    # 3P Convulsions-most recent occurrence  Value = 7.0\tLabel = In past year\n",
    "                       | (extended_df.n2616 == 8)    # 3P Convulsions-most recent occurrence  Value = 8.0\tLabel = DK age                \n",
    "                     )*1\n",
    "\n",
    "epilepsy_response.seizure16.value_counts()\n"
   ]
  },
  {
   "cell_type": "code",
   "execution_count": 22,
   "metadata": {
    "collapsed": false
   },
   "outputs": [
    {
     "data": {
      "text/plain": [
       "0    17143\n",
       "1     1415\n",
       "Name: seizure, dtype: int64"
      ]
     },
     "execution_count": 22,
     "metadata": {},
     "output_type": "execute_result"
    }
   ],
   "source": [
    "epilepsy_response['seizure'] = (\n",
    "                                (epilepsy_response.seizure7  == 1)\n",
    "                              | (epilepsy_response.seizure11 == 1)\n",
    "                              | (epilepsy_response.seizure16 == 1)    \n",
    "                               )*1\n",
    "\n",
    "epilepsy_response.seizure.value_counts()\n"
   ]
  },
  {
   "cell_type": "code",
   "execution_count": 23,
   "metadata": {
    "collapsed": false
   },
   "outputs": [
    {
     "data": {
      "text/plain": [
       "no     13901\n",
       "-1      4566\n",
       "yes       91\n",
       "Name: epilepsy7, dtype: int64"
      ]
     },
     "execution_count": 23,
     "metadata": {},
     "output_type": "execute_result"
    }
   ],
   "source": [
    "epilepsy_response.epilepsy7.value_counts()"
   ]
  },
  {
   "cell_type": "code",
   "execution_count": 24,
   "metadata": {
    "collapsed": false
   },
   "outputs": [
    {
     "data": {
      "text/plain": [
       "no     13371\n",
       "-1      4888\n",
       "yes      299\n",
       "Name: epilepsy11, dtype: int64"
      ]
     },
     "execution_count": 24,
     "metadata": {},
     "output_type": "execute_result"
    }
   ],
   "source": [
    "epilepsy_response.epilepsy11.value_counts()"
   ]
  },
  {
   "cell_type": "code",
   "execution_count": 25,
   "metadata": {
    "collapsed": false
   },
   "outputs": [
    {
     "data": {
      "text/plain": [
       "no     18393\n",
       "-1       119\n",
       "yes       46\n",
       "Name: epilepsy16, dtype: int64"
      ]
     },
     "execution_count": 25,
     "metadata": {},
     "output_type": "execute_result"
    }
   ],
   "source": [
    "epilepsy_response.epilepsy16.value_counts()"
   ]
  },
  {
   "cell_type": "code",
   "execution_count": 26,
   "metadata": {
    "collapsed": false
   },
   "outputs": [
    {
     "data": {
      "text/plain": [
       "0    18194\n",
       "1      364\n",
       "Name: epilepsy, dtype: int64"
      ]
     },
     "execution_count": 26,
     "metadata": {},
     "output_type": "execute_result"
    }
   ],
   "source": [
    "epilepsy_response['epilepsy'] = (\n",
    "                                (epilepsy_response.epilepsy7  == 'yes')\n",
    "                              | (epilepsy_response.epilepsy11 == 'yes')\n",
    "                              | (epilepsy_response.epilepsy16 == 'yes')    \n",
    "                               )*1\n",
    "\n",
    "epilepsy_response.epilepsy.value_counts()\n"
   ]
  },
  {
   "cell_type": "code",
   "execution_count": 27,
   "metadata": {
    "collapsed": false
   },
   "outputs": [
    {
     "data": {
      "text/plain": [
       "(18558, 8)"
      ]
     },
     "execution_count": 27,
     "metadata": {},
     "output_type": "execute_result"
    }
   ],
   "source": [
    "epilepsy_response.shape"
   ]
  },
  {
   "cell_type": "markdown",
   "metadata": {},
   "source": [
    "### Mapping the variable"
   ]
  },
  {
   "cell_type": "code",
   "execution_count": 28,
   "metadata": {
    "collapsed": true
   },
   "outputs": [],
   "source": [
    "mapping_data = pd.read_csv('ncds0123_ukda_data_dictionary.txt',sep='\\t', error_bad_lines=False )"
   ]
  },
  {
   "cell_type": "code",
   "execution_count": 29,
   "metadata": {
    "collapsed": true
   },
   "outputs": [],
   "source": [
    "row_generator = mapping_data.iterrows()\n",
    "key = ''\n",
    "var_type = ''\n",
    "var_label = ''\n",
    "mapping_dict = {}\n",
    "for row in row_generator:\n",
    "\n",
    "    ordinal_test = str(row[1][0])\n",
    "\n",
    "    var_value = str(row[1][1])\n",
    "    label = str(row[1][2])\n",
    "\n",
    "    var_value_elems = [x.lower().strip() for x in var_value.split('=')]\n",
    "    label_elems = [x.lower().strip() for x in label.split('=')]\n",
    "\n",
    "    if 'measurement' in ordinal_test:\n",
    "        var_type = ordinal_test.split()[-1]\n",
    "\n",
    "    if var_value_elems[0] == 'variable':\n",
    "        key = var_value_elems[1]\n",
    "        var_label = label_elems[1]\n",
    "        mapping_dict[key] = {}\n",
    "        mapping_dict[key]['mapping'] = {}\n",
    "\n",
    "\n",
    "    # if len(''.join(str(row[1])).split('=')) < 2:\n",
    "    #     continue\n",
    "\n",
    "\n",
    "    if label_elems[0] == 'label' and var_value_elems[0] == 'value':\n",
    "        mapping_dict[key]['mapping'].update({float(var_value_elems[1]):label_elems[1]})\n",
    "        mapping_dict[key]['type'] = var_type\n",
    "        mapping_dict[key]['label'] = var_label"
   ]
  },
  {
   "cell_type": "code",
   "execution_count": 30,
   "metadata": {
    "collapsed": true
   },
   "outputs": [],
   "source": [
    "mapping_columns = {x : y for x, y in mapping_dict.items() if x != 'ncdsid'}\n",
    "mapping_columns = {x : y for x, y in mapping_columns.items() if len(y['mapping'].keys()) > 1}\n",
    "\n",
    "non_mapping_columns = {x:y for x,y in mapping_dict.items() if x not in mapping_columns.keys()}"
   ]
  },
  {
   "cell_type": "code",
   "execution_count": 31,
   "metadata": {
    "collapsed": false
   },
   "outputs": [
    {
     "name": "stdout",
     "output_type": "stream",
     "text": [
      "(18558, 1765)\n",
      "n1997\n",
      "n378\n",
      "n379\n",
      "n2259\n"
     ]
    }
   ],
   "source": [
    "data_main_mapped = data_main.copy()\n",
    "x = 1\n",
    "print data_main_mapped.shape\n",
    "for i, c_name in enumerate(mapping_columns.keys()):\n",
    "    data_main_mapped[mapping_columns[c_name]['label']] = \\\n",
    "    data_main_mapped[c_name].map(mapping_dict[c_name]['mapping'], 'ignore')\n",
    "    if data_main_mapped.shape[1] != data_main.shape[1]+i+x:\n",
    "        print c_name\n",
    "        x -= 1\n",
    "\n",
    "data_main_mapped.drop(mapping_columns.keys(), 1, inplace=True)\n",
    "data_main_mapped.shape\n",
    "new_labels = [non_mapping_columns[x]['label'] if x in non_mapping_columns.keys() \\\n",
    "              and x != 'ncdsid' else x for x in data_main_mapped.columns]\n",
    "data_main_mapped.columns = new_labels"
   ]
  },
  {
   "cell_type": "code",
   "execution_count": 32,
   "metadata": {
    "collapsed": false
   },
   "outputs": [
    {
     "data": {
      "text/plain": [
       "(18558, 1761)"
      ]
     },
     "execution_count": 32,
     "metadata": {},
     "output_type": "execute_result"
    }
   ],
   "source": [
    "data_main_mapped.shape"
   ]
  },
  {
   "cell_type": "markdown",
   "metadata": {},
   "source": [
    "### Dropping the features used to build my predictors"
   ]
  },
  {
   "cell_type": "code",
   "execution_count": 33,
   "metadata": {
    "collapsed": false
   },
   "outputs": [],
   "source": [
    "data_main_mapped.drop(['0 Illness noted in PMS-MC 1:3','0 illness noted in pms-mc 2:3',  \n",
    "                       '0 illness noted in pms-mc 3:3', \n",
    "                       '1p fit or convulsion in 1st year of life', '1p fit or convulsion after 1st year', \n",
    "                       '1m reason for special education mc1:3', '1m reason for special education mc2:3', \n",
    "                       '1m reason for special education mc3:3', '2p age at most recent epilepsy attack', \n",
    "                       '2p age at 1st epilepsy attack', '2m has child ever had convulsions', \n",
    "                       '2m reason for special education - mc2:3', '2m reason for special education - mc3:3', \n",
    "                       '2p has child had epilepsy attacks-mc 1:3', '2p has child had epilepsy attacks-mc 2:3', \n",
    "                       '2p has child had epilepsy attacks-mc 3:3', '2p reason for absence from school-mc 1:5', \n",
    "                       '2p reason for absence from school-mc 2:5', '2p reason for absence from school-mc 3:5', \n",
    "                       '2p reason for absence from school-mc 4:5', '2p reason for absence from school-mc 5:5', \n",
    "                       '2p reason for prescription  m:c 1-2', '2p reason for prescription  m:c 2-2', \n",
    "                       '2p ever seen specialist-convulsions,fits', \"3m category of child's handicap mc1:3\", \n",
    "                       \"3m category of child's handicap mc2:3\", \"3m category of child's handicap mc3:3\", \n",
    "                       '3p nature of child-s disability-mc 1:5', '3p nature of child-s disability-mc 2:5', \n",
    "                       '3p nature of child-s disability-mc 3:5', '3p nature of child-s disability-mc 4:5', \n",
    "                       '3p nature of child-s disability-mc 5:5', '3m reason for hosp admiss last 12 mnths', \n",
    "                       '3m reason hosp outpatient last yr', '3m epilepsy', \n",
    "                       '3p reason for absence from school-mc 1:6', '3p reason for absence from school-mc 2:6', \n",
    "                       '3p reason for absence from school-mc 3:6', '3p reason for absence from school-mc 4:6', \n",
    "                       '3p reason for absence from school-mc 5:6', '3p reason for absence from school-mc 6:6', \n",
    "                       '3p hospital admissions,general-mc 1:4', '3p hospital admissions,general-mc 2:4', \n",
    "                       '3p hospital admissions,general-mc 3:4', '3p hospital admissions,general-mc 4:4', \n",
    "                       '3p hosp outpatient,diagnosed cond-mc 1:6', '3p hosp outpatient,diagnosed cond-mc 2:6', \n",
    "                       '3p hosp outpatient,diagnosed cond-mc 3:6', '3p hosp outpatient,diagnosed cond-mc 4:6',\n",
    "                       '3p hosp outpatient,diagnosed cond-mc 5:6', '3p hosp outpatient,diagnosed cond-mc 6:6', \n",
    "                       '3p convulsions,fits-unconsciousness', '3p when convulsions,fits 1st occured', \n",
    "                       '3p convulsions-most recent occurrence', #'3p convulsions-most recent occurrence', \n",
    "                       '12d epilepsy identification', '2p age at most recent epilepsy attack', \n",
    "                       #'2p age at 1st epilepsy attack', \n",
    "                       '3p convulsions,fits-unconsciousness', '2p age at 1st epilepsy attack', \n",
    "                       '1p fit or convulsion in 1st year of life'], axis=1, inplace=True)\n"
   ]
  },
  {
   "cell_type": "markdown",
   "metadata": {},
   "source": [
    "### Data exploration"
   ]
  },
  {
   "cell_type": "code",
   "execution_count": 34,
   "metadata": {
    "collapsed": true
   },
   "outputs": [],
   "source": [
    "data_main['Epilepsy_identification'] = data_main.n1842.map({1 : 'No convulsiv dis',\n",
    "2 : 'Indef convls dis',\n",
    "3 : 'Faints',\n",
    "4 : 'Hysterical attck',\n",
    "5 : 'Epilepsy',\n",
    "6 : 'Unsubstan epilep',\n",
    "7 : 'Febr convs-prob',\n",
    "8 : 'Febr convs -pos',\n",
    "9 : 'Not diag epilep',\n",
    "10 : 'Febrile convuls',\n",
    "11 : 'Breath-holding',\n",
    "12 : 'Blank-spells',\n",
    "-1 : 'No epilepsy stdy',\n",
    "-2 : 'No NCDS1,NCDS2',})"
   ]
  },
  {
   "cell_type": "code",
   "execution_count": 35,
   "metadata": {
    "collapsed": true
   },
   "outputs": [],
   "source": [
    "data_main['Gender'] = data_main.n622.map({1 : 'Male',\n",
    "2 : 'Female',\n",
    "3 : 'Not_known',\n",
    "})                                                                            "
   ]
  },
  {
   "cell_type": "code",
   "execution_count": 36,
   "metadata": {
    "collapsed": true
   },
   "outputs": [],
   "source": [
    "data_main['Ethinic_gp'] = data_main.n2017.map({1 : 'Euro-Caucasian',\n",
    "2 : 'African-Negroid',\n",
    "3 : 'Indian-Pakistan',\n",
    "4 : 'Other Asian',\n",
    "5 : 'Mixed race',\n",
    "6 : 'Other or unsure',\n",
    "-1 : 'NA',\n",
    "})    "
   ]
  },
  {
   "cell_type": "code",
   "execution_count": 37,
   "metadata": {
    "collapsed": true
   },
   "outputs": [],
   "source": [
    "data_main['2P Has child had epilepsy attacks-MC 1:3'] = data_main.n1307.map({1 : 'Major convulsion',\n",
    "2 : 'Minor.petit mal',\n",
    "3 : 'Other or mixed',\n",
    "4 : 'Fainting etc.',\n",
    "5 : 'Other attacks',\n",
    "6 : 'None at all',\n",
    "7 : 'Dont know',\n",
    "-1 : 'NA',})"
   ]
  },
  {
   "cell_type": "code",
   "execution_count": 38,
   "metadata": {
    "collapsed": true
   },
   "outputs": [],
   "source": [
    "data_main['2P Has child had epilepsy attacks-MC 2:3'] = data_main.n1308.map({1 : 'Major convulsion',\n",
    "2 : 'Minor.petit mal',\n",
    "3 : 'Other or mixed',\n",
    "4 : 'Fainting etc.',\n",
    "5 : 'Other attacks',\n",
    "6 : 'None at all',\n",
    "7 : 'Dont know',\n",
    "-1 : 'NA',})"
   ]
  },
  {
   "cell_type": "code",
   "execution_count": 39,
   "metadata": {
    "collapsed": true
   },
   "outputs": [],
   "source": [
    "data_main['2P Has child had epilepsy attacks-MC 3:3'] = data_main.n1309.map({1 : 'Major convulsion',\n",
    "2 : 'Minor.petit mal',\n",
    "3 : 'Other or mixed',\n",
    "4 : 'Fainting etc.',\n",
    "5 : 'Other attacks',\n",
    "6 : 'None at all',\n",
    "7 : 'Dont know',\n",
    "-1 : 'NA',})"
   ]
  },
  {
   "cell_type": "code",
   "execution_count": 40,
   "metadata": {
    "collapsed": true
   },
   "outputs": [],
   "source": [
    "data_main['3M Epilepsy'] = data_main.n2032.map({1 : 'No abnormality',\n",
    "2 : 'Cond uncertain',\n",
    "3 : 'Cond,no handcp',\n",
    "4 : 'Slight handicap',\n",
    "5 : 'Moderate handicp',\n",
    "6 : 'Severe handicap',\n",
    "7 : 'Cond,DK degree',\n",
    "-1 : 'NA',})"
   ]
  },
  {
   "cell_type": "code",
   "execution_count": 41,
   "metadata": {
    "collapsed": true
   },
   "outputs": [],
   "source": [
    "data_main['2P Age at most recent epilepsy attack'] = data_main.n1314.map({1 : '1',\n",
    "2 : '2',\n",
    "3 : '3',\n",
    "4 : '4',\n",
    "5 : '5',\n",
    "6 : '6',\n",
    "7 : '7',\n",
    "8 : '8',\n",
    "9 : '9',\n",
    "10 : '10',\n",
    "11 : '11',\n",
    "12 : '12',\n",
    "-1 : 'No epilepsy stdy',})"
   ]
  },
  {
   "cell_type": "code",
   "execution_count": 42,
   "metadata": {
    "collapsed": true
   },
   "outputs": [],
   "source": [
    "data_main['2P Age at 1st epilepsy attack'] = data_main.n1317.map({1 : '1',\n",
    "2 : '2',\n",
    "3 : '3',\n",
    "4 : '4',\n",
    "5 : '5',\n",
    "6 : '6',\n",
    "7 : '7',\n",
    "8 : '8',\n",
    "9 : '9',\n",
    "10 : '10',\n",
    "11 : '11',\n",
    "12 : '12',\n",
    "-1 : 'No epilepsy stdy',})"
   ]
  },
  {
   "cell_type": "code",
   "execution_count": null,
   "metadata": {
    "collapsed": true
   },
   "outputs": [],
   "source": []
  },
  {
   "cell_type": "code",
   "execution_count": null,
   "metadata": {
    "collapsed": true
   },
   "outputs": [],
   "source": []
  },
  {
   "cell_type": "markdown",
   "metadata": {},
   "source": [
    "Numbers of quantitative and quategorical variables"
   ]
  },
  {
   "cell_type": "code",
   "execution_count": 43,
   "metadata": {
    "collapsed": false
   },
   "outputs": [
    {
     "data": {
      "text/plain": [
       "Categorical    1495\n",
       "Numeric         212\n",
       "dtype: int64"
      ]
     },
     "execution_count": 43,
     "metadata": {},
     "output_type": "execute_result"
    }
   ],
   "source": [
    "data_main_mapped.apply(lambda x : 'Categorical' if len(x.unique()) < 15 else 'Numeric').value_counts()"
   ]
  },
  {
   "cell_type": "code",
   "execution_count": 44,
   "metadata": {
    "collapsed": false
   },
   "outputs": [],
   "source": [
    "import random\n",
    "#explode = (0, 0, 0,0,0,0,0,0)\n",
    "def pie_plot(dataset, column_name, condition_column=None, condition_value=None):\n",
    "    labels = dataset[column_name].unique()\n",
    "    print labels\n",
    "    extra_condition = (dataset[condition_column] == condition_value) if condition_column else True\n",
    "    sizes = [sum( (dataset[column_name] == factor) &  extra_condition) for factor in labels]\n",
    "    print sizes\n",
    "    color_set = [\"#E13F29\", \"#D69A80\", \"#D63B59\", \"#D63B51\", \"#8091d6\", \"#bac3e9\", \"#e9e0ba\", '#d6983a']\n",
    "    colors = random.sample(color_set,len(labels))\n",
    "    #print colors\n",
    "    plt.pie(sizes, \n",
    "        labels=labels, \n",
    "        colors=colors,\n",
    "        autopct='%1.1f%%')\n",
    "    \n",
    "\n",
    "#[pie_plot(result_epilepsy, x, 'Epilepsy_identification', 'Epilepsy') for x in plot_columns]"
   ]
  },
  {
   "cell_type": "code",
   "execution_count": 45,
   "metadata": {
    "collapsed": false
   },
   "outputs": [
    {
     "name": "stdout",
     "output_type": "stream",
     "text": [
      "['Female' 'Male' nan]\n",
      "[8959, 9595, 0]\n",
      "['Female' 'Male' nan]\n",
      "[27, 32, 0]\n",
      "['Euro-Caucasian' 'NA' nan 'Indian-Pakistan' 'African-Negroid' 'Mixed race'\n",
      " 'Other or unsure' 'Other Asian']\n",
      "[10953, 3235, 0, 156, 163, 51, 71, 24]\n",
      "['Euro-Caucasian' 'NA' nan 'Indian-Pakistan' 'African-Negroid' 'Mixed race'\n",
      " 'Other or unsure' 'Other Asian']\n",
      "[45, 7, 0, 0, 0, 0, 0, 0]\n"
     ]
    },
    {
     "data": {
      "image/png": "[encoded data removed]",
      "text/plain": [
       "<matplotlib.figure.Figure at 0x110a6f850>"
      ]
     },
     "metadata": {},
     "output_type": "display_data"
    }
   ],
   "source": [
    "plot_columns = ['Gender']\n",
    "fig = plt.figure(figsize=(20, 18))\n",
    "\n",
    "\n",
    "ax1 = fig.add_subplot(2, 2, 1)\n",
    "ax1.set_title('distribution of gender in population')\n",
    "ax1 = [pie_plot(data_main, 'Gender',)]\n",
    "\n",
    "\n",
    "\n",
    "ax1 = fig.add_subplot(2, 2, 2)\n",
    "ax1.set_title('distribution of gender in Epilepsy group')\n",
    "ax1 = [pie_plot(data_main, 'Gender', 'Epilepsy_identification', 'Epilepsy')]\n",
    "\n",
    "ax1 = fig.add_subplot(2, 2, 3)\n",
    "ax1.set_title('distribution of ethinc group in population')\n",
    "ax1 = [pie_plot(data_main, 'Ethinic_gp',) for x in plot_columns]\n",
    "\n",
    "\n",
    "ax1 = fig.add_subplot(2, 2, 4)\n",
    "ax1.set_title('distribution of ethinc group in Epilepsy group')\n",
    "ax1 = [pie_plot(data_main, 'Ethinic_gp', 'Epilepsy_identification', 'Epilepsy') for x in plot_columns]\n",
    "\n",
    "\n",
    "plt.tight_layout()\n",
    "plt.axis('equal')\n",
    "plt.show();"
   ]
  },
  {
   "cell_type": "code",
   "execution_count": 46,
   "metadata": {
    "collapsed": false
   },
   "outputs": [
    {
     "data": {
      "image/png": "[encoded data removed]",
      "text/plain": [
       "<matplotlib.figure.Figure at 0x114c0c890>"
      ]
     },
     "metadata": {},
     "output_type": "display_data"
    },
    {
     "data": {
      "image/png": "[encoded data removed]",
      "text/plain": [
       "<matplotlib.figure.Figure at 0x11072bbd0>"
      ]
     },
     "metadata": {},
     "output_type": "display_data"
    }
   ],
   "source": [
    "#plot_data = np.isfinite(data_main['2P Age at 1st epilepsy attack'])\n",
    "#yvals = [100,500,2000,15000]\n",
    "#fig = plt.figure(figsize=(20, 10))\n",
    "\n",
    "#f, (ax2, ax3) = plt.subplots(2, 1, sharex=True)\n",
    "\n",
    "# plot the same data on both axes\n",
    "#ax2 = data_main['Epilepsy_identification'].value_counts().plot(kind='bar',)\n",
    "fig = plt.figure(figsize=(20, 10))\n",
    "ax2 = sns.countplot(x=\"Epilepsy_identification\", data=data_main, palette=\"Blues_d\");\n",
    "fig = plt.figure(figsize=(20, 10))\n",
    "ax3 = sns.countplot(x=\"Epilepsy_identification\", data=data_main, palette=\"Blues_d\");\n",
    "\n",
    "# zoom-in / limit the view to different portions of the data\n",
    "ax2.set_ylim(14000., 15000.)  # outliers only\n",
    "ax3.set_ylim(0, 400.)  # most of the data\n",
    "\n",
    "# hide the spines between ax and ax2\n",
    "ax3.spines['bottom'].set_visible(False)\n",
    "ax2.spines['top'].set_visible(False)\n",
    "ax2.xaxis.tick_top()\n",
    "\n",
    "ax3.xaxis.tick_bottom()\n"
   ]
  },
  {
   "cell_type": "code",
   "execution_count": 47,
   "metadata": {
    "collapsed": false
   },
   "outputs": [
    {
     "data": {
      "image/png": "[encoded data removed]",
      "text/plain": [
       "<matplotlib.figure.Figure at 0x110a7b4d0>"
      ]
     },
     "metadata": {},
     "output_type": "display_data"
    }
   ],
   "source": [
    "fig = plt.figure(figsize=(20, 10))\n",
    "sns.countplot(y=\"3M Epilepsy\", data=data_main, palette=\"Blues_d\");"
   ]
  },
  {
   "cell_type": "code",
   "execution_count": 48,
   "metadata": {
    "collapsed": false
   },
   "outputs": [
    {
     "data": {
      "image/png": "[encoded data removed]",
      "text/plain": [
       "<matplotlib.figure.Figure at 0x114c0cad0>"
      ]
     },
     "metadata": {},
     "output_type": "display_data"
    }
   ],
   "source": [
    "fig = plt.figure(figsize=(20, 10))\n",
    "sns.countplot(y=\"3M Epilepsy\", hue=\"Gender\", data=data_main, palette=\"Blues_d\");"
   ]
  },
  {
   "cell_type": "markdown",
   "metadata": {},
   "source": [
    "### Chi-Squared Test of Independence"
   ]
  },
  {
   "cell_type": "markdown",
   "metadata": {},
   "source": [
    "The chi-squared test of independence tests whether two categorical variables are independent. "
   ]
  },
  {
   "cell_type": "code",
   "execution_count": 49,
   "metadata": {
    "collapsed": false
   },
   "outputs": [],
   "source": [
    "recent_attack = data_main['2P Age at most recent epilepsy attack']\n",
    "age_first_attack = data_main['2P Age at 1st epilepsy attack']"
   ]
  },
  {
   "cell_type": "code",
   "execution_count": 50,
   "metadata": {
    "collapsed": false
   },
   "outputs": [],
   "source": [
    "recent_attack_table = pd.crosstab(index=recent_attack, columns=\"count\")\n",
    "age_first_attack_table = pd.crosstab(index=age_first_attack, columns=\"count\")"
   ]
  },
  {
   "cell_type": "code",
   "execution_count": 51,
   "metadata": {
    "collapsed": false
   },
   "outputs": [],
   "source": [
    "Cross_table = pd.crosstab(recent_attack, age_first_attack, margins = True)\n",
    "observed = Cross_table.ix[0:13,0:12]   # Get table without totals for later use"
   ]
  },
  {
   "cell_type": "code",
   "execution_count": 52,
   "metadata": {
    "collapsed": false
   },
   "outputs": [
    {
     "data": {
      "text/plain": [
       "No epilepsy stdy    14633\n",
       "1                     106\n",
       "2                      82\n",
       "10                     75\n",
       "9                      46\n",
       "11                     45\n",
       "3                      43\n",
       "7                      31\n",
       "5                      30\n",
       "8                      29\n",
       "4                      27\n",
       "6                      26\n",
       "Name: 2P Age at 1st epilepsy attack, dtype: int64"
      ]
     },
     "execution_count": 52,
     "metadata": {},
     "output_type": "execute_result"
    }
   ],
   "source": [
    "age_first_attack.value_counts()"
   ]
  },
  {
   "cell_type": "code",
   "execution_count": 53,
   "metadata": {
    "collapsed": false
   },
   "outputs": [
    {
     "data": {
      "text/plain": [
       "No epilepsy stdy    14626\n",
       "11                    117\n",
       "10                    112\n",
       "2                      77\n",
       "1                      74\n",
       "3                      57\n",
       "9                      55\n",
       "4                      46\n",
       "5                      36\n",
       "7                      26\n",
       "8                      25\n",
       "6                      22\n",
       "12                      1\n",
       "Name: 2P Age at most recent epilepsy attack, dtype: int64"
      ]
     },
     "execution_count": 53,
     "metadata": {},
     "output_type": "execute_result"
    }
   ],
   "source": [
    "recent_attack.value_counts()"
   ]
  },
  {
   "cell_type": "code",
   "execution_count": 54,
   "metadata": {
    "collapsed": false
   },
   "outputs": [
    {
     "data": {
      "text/html": [
       "<div>\n",
       "<table border=\"1\" class=\"dataframe\">\n",
       "  <thead>\n",
       "    <tr style=\"text-align: right;\">\n",
       "      <th>2P Age at 1st epilepsy attack</th>\n",
       "      <th>1</th>\n",
       "      <th>10</th>\n",
       "      <th>11</th>\n",
       "      <th>2</th>\n",
       "      <th>3</th>\n",
       "      <th>4</th>\n",
       "      <th>5</th>\n",
       "      <th>6</th>\n",
       "      <th>7</th>\n",
       "      <th>8</th>\n",
       "      <th>9</th>\n",
       "      <th>No epilepsy stdy</th>\n",
       "      <th>All</th>\n",
       "    </tr>\n",
       "    <tr>\n",
       "      <th>2P Age at most recent epilepsy attack</th>\n",
       "      <th></th>\n",
       "      <th></th>\n",
       "      <th></th>\n",
       "      <th></th>\n",
       "      <th></th>\n",
       "      <th></th>\n",
       "      <th></th>\n",
       "      <th></th>\n",
       "      <th></th>\n",
       "      <th></th>\n",
       "      <th></th>\n",
       "      <th></th>\n",
       "      <th></th>\n",
       "    </tr>\n",
       "  </thead>\n",
       "  <tbody>\n",
       "    <tr>\n",
       "      <th>1</th>\n",
       "      <td>53</td>\n",
       "      <td>0</td>\n",
       "      <td>0</td>\n",
       "      <td>0</td>\n",
       "      <td>0</td>\n",
       "      <td>0</td>\n",
       "      <td>0</td>\n",
       "      <td>0</td>\n",
       "      <td>0</td>\n",
       "      <td>0</td>\n",
       "      <td>0</td>\n",
       "      <td>1</td>\n",
       "      <td>54</td>\n",
       "    </tr>\n",
       "    <tr>\n",
       "      <th>10</th>\n",
       "      <td>1</td>\n",
       "      <td>55</td>\n",
       "      <td>0</td>\n",
       "      <td>2</td>\n",
       "      <td>4</td>\n",
       "      <td>4</td>\n",
       "      <td>6</td>\n",
       "      <td>7</td>\n",
       "      <td>6</td>\n",
       "      <td>6</td>\n",
       "      <td>11</td>\n",
       "      <td>4</td>\n",
       "      <td>106</td>\n",
       "    </tr>\n",
       "    <tr>\n",
       "      <th>11</th>\n",
       "      <td>1</td>\n",
       "      <td>20</td>\n",
       "      <td>45</td>\n",
       "      <td>5</td>\n",
       "      <td>4</td>\n",
       "      <td>3</td>\n",
       "      <td>3</td>\n",
       "      <td>4</td>\n",
       "      <td>6</td>\n",
       "      <td>9</td>\n",
       "      <td>9</td>\n",
       "      <td>5</td>\n",
       "      <td>114</td>\n",
       "    </tr>\n",
       "    <tr>\n",
       "      <th>12</th>\n",
       "      <td>0</td>\n",
       "      <td>0</td>\n",
       "      <td>0</td>\n",
       "      <td>0</td>\n",
       "      <td>0</td>\n",
       "      <td>0</td>\n",
       "      <td>0</td>\n",
       "      <td>0</td>\n",
       "      <td>0</td>\n",
       "      <td>0</td>\n",
       "      <td>0</td>\n",
       "      <td>1</td>\n",
       "      <td>1</td>\n",
       "    </tr>\n",
       "    <tr>\n",
       "      <th>2</th>\n",
       "      <td>14</td>\n",
       "      <td>0</td>\n",
       "      <td>0</td>\n",
       "      <td>48</td>\n",
       "      <td>0</td>\n",
       "      <td>0</td>\n",
       "      <td>0</td>\n",
       "      <td>0</td>\n",
       "      <td>0</td>\n",
       "      <td>0</td>\n",
       "      <td>0</td>\n",
       "      <td>2</td>\n",
       "      <td>64</td>\n",
       "    </tr>\n",
       "    <tr>\n",
       "      <th>3</th>\n",
       "      <td>12</td>\n",
       "      <td>0</td>\n",
       "      <td>0</td>\n",
       "      <td>5</td>\n",
       "      <td>25</td>\n",
       "      <td>0</td>\n",
       "      <td>0</td>\n",
       "      <td>0</td>\n",
       "      <td>0</td>\n",
       "      <td>0</td>\n",
       "      <td>0</td>\n",
       "      <td>7</td>\n",
       "      <td>49</td>\n",
       "    </tr>\n",
       "    <tr>\n",
       "      <th>4</th>\n",
       "      <td>6</td>\n",
       "      <td>0</td>\n",
       "      <td>0</td>\n",
       "      <td>11</td>\n",
       "      <td>3</td>\n",
       "      <td>16</td>\n",
       "      <td>0</td>\n",
       "      <td>0</td>\n",
       "      <td>0</td>\n",
       "      <td>0</td>\n",
       "      <td>0</td>\n",
       "      <td>4</td>\n",
       "      <td>40</td>\n",
       "    </tr>\n",
       "    <tr>\n",
       "      <th>5</th>\n",
       "      <td>6</td>\n",
       "      <td>0</td>\n",
       "      <td>0</td>\n",
       "      <td>3</td>\n",
       "      <td>1</td>\n",
       "      <td>2</td>\n",
       "      <td>14</td>\n",
       "      <td>0</td>\n",
       "      <td>0</td>\n",
       "      <td>0</td>\n",
       "      <td>0</td>\n",
       "      <td>2</td>\n",
       "      <td>28</td>\n",
       "    </tr>\n",
       "    <tr>\n",
       "      <th>6</th>\n",
       "      <td>4</td>\n",
       "      <td>0</td>\n",
       "      <td>0</td>\n",
       "      <td>1</td>\n",
       "      <td>1</td>\n",
       "      <td>0</td>\n",
       "      <td>3</td>\n",
       "      <td>9</td>\n",
       "      <td>0</td>\n",
       "      <td>0</td>\n",
       "      <td>0</td>\n",
       "      <td>0</td>\n",
       "      <td>18</td>\n",
       "    </tr>\n",
       "    <tr>\n",
       "      <th>7</th>\n",
       "      <td>2</td>\n",
       "      <td>0</td>\n",
       "      <td>0</td>\n",
       "      <td>0</td>\n",
       "      <td>2</td>\n",
       "      <td>0</td>\n",
       "      <td>2</td>\n",
       "      <td>1</td>\n",
       "      <td>13</td>\n",
       "      <td>0</td>\n",
       "      <td>0</td>\n",
       "      <td>0</td>\n",
       "      <td>20</td>\n",
       "    </tr>\n",
       "    <tr>\n",
       "      <th>8</th>\n",
       "      <td>0</td>\n",
       "      <td>0</td>\n",
       "      <td>0</td>\n",
       "      <td>1</td>\n",
       "      <td>1</td>\n",
       "      <td>0</td>\n",
       "      <td>0</td>\n",
       "      <td>5</td>\n",
       "      <td>2</td>\n",
       "      <td>10</td>\n",
       "      <td>0</td>\n",
       "      <td>2</td>\n",
       "      <td>21</td>\n",
       "    </tr>\n",
       "    <tr>\n",
       "      <th>9</th>\n",
       "      <td>1</td>\n",
       "      <td>0</td>\n",
       "      <td>0</td>\n",
       "      <td>6</td>\n",
       "      <td>1</td>\n",
       "      <td>2</td>\n",
       "      <td>2</td>\n",
       "      <td>0</td>\n",
       "      <td>4</td>\n",
       "      <td>4</td>\n",
       "      <td>26</td>\n",
       "      <td>2</td>\n",
       "      <td>48</td>\n",
       "    </tr>\n",
       "    <tr>\n",
       "      <th>No epilepsy stdy</th>\n",
       "      <td>6</td>\n",
       "      <td>0</td>\n",
       "      <td>0</td>\n",
       "      <td>0</td>\n",
       "      <td>1</td>\n",
       "      <td>0</td>\n",
       "      <td>0</td>\n",
       "      <td>0</td>\n",
       "      <td>0</td>\n",
       "      <td>0</td>\n",
       "      <td>0</td>\n",
       "      <td>14603</td>\n",
       "      <td>14610</td>\n",
       "    </tr>\n",
       "    <tr>\n",
       "      <th>All</th>\n",
       "      <td>106</td>\n",
       "      <td>75</td>\n",
       "      <td>45</td>\n",
       "      <td>82</td>\n",
       "      <td>43</td>\n",
       "      <td>27</td>\n",
       "      <td>30</td>\n",
       "      <td>26</td>\n",
       "      <td>31</td>\n",
       "      <td>29</td>\n",
       "      <td>46</td>\n",
       "      <td>14633</td>\n",
       "      <td>15173</td>\n",
       "    </tr>\n",
       "  </tbody>\n",
       "</table>\n",
       "</div>"
      ],
      "text/plain": [
       "2P Age at 1st epilepsy attack            1  10  11   2   3   4   5   6   7  \\\n",
       "2P Age at most recent epilepsy attack                                        \n",
       "1                                       53   0   0   0   0   0   0   0   0   \n",
       "10                                       1  55   0   2   4   4   6   7   6   \n",
       "11                                       1  20  45   5   4   3   3   4   6   \n",
       "12                                       0   0   0   0   0   0   0   0   0   \n",
       "2                                       14   0   0  48   0   0   0   0   0   \n",
       "3                                       12   0   0   5  25   0   0   0   0   \n",
       "4                                        6   0   0  11   3  16   0   0   0   \n",
       "5                                        6   0   0   3   1   2  14   0   0   \n",
       "6                                        4   0   0   1   1   0   3   9   0   \n",
       "7                                        2   0   0   0   2   0   2   1  13   \n",
       "8                                        0   0   0   1   1   0   0   5   2   \n",
       "9                                        1   0   0   6   1   2   2   0   4   \n",
       "No epilepsy stdy                         6   0   0   0   1   0   0   0   0   \n",
       "All                                    106  75  45  82  43  27  30  26  31   \n",
       "\n",
       "2P Age at 1st epilepsy attack           8   9  No epilepsy stdy    All  \n",
       "2P Age at most recent epilepsy attack                                   \n",
       "1                                       0   0                 1     54  \n",
       "10                                      6  11                 4    106  \n",
       "11                                      9   9                 5    114  \n",
       "12                                      0   0                 1      1  \n",
       "2                                       0   0                 2     64  \n",
       "3                                       0   0                 7     49  \n",
       "4                                       0   0                 4     40  \n",
       "5                                       0   0                 2     28  \n",
       "6                                       0   0                 0     18  \n",
       "7                                       0   0                 0     20  \n",
       "8                                      10   0                 2     21  \n",
       "9                                       4  26                 2     48  \n",
       "No epilepsy stdy                        0   0             14603  14610  \n",
       "All                                    29  46             14633  15173  "
      ]
     },
     "execution_count": 54,
     "metadata": {},
     "output_type": "execute_result"
    }
   ],
   "source": [
    "Cross_table"
   ]
  },
  {
   "cell_type": "markdown",
   "metadata": {},
   "source": [
    "chi-squared test statistic : 58494.964159487434\n",
    "\n",
    "P values : 0.00\n",
    "\n",
    "DF : 132 \n",
    "\n",
    "As expected, given the low p-value, the test result detect a significant relationship between the variables: '2P Age at most recent epilepsy attack' and '2P Age at 1st epilepsy attack'"
   ]
  },
  {
   "cell_type": "code",
   "execution_count": 55,
   "metadata": {
    "collapsed": false
   },
   "outputs": [],
   "source": [
    "#data_main_mapped.head()"
   ]
  },
  {
   "cell_type": "code",
   "execution_count": 56,
   "metadata": {
    "collapsed": false
   },
   "outputs": [],
   "source": [
    "#data_main_mapped.n553.dtypes"
   ]
  },
  {
   "cell_type": "markdown",
   "metadata": {},
   "source": [
    "## Epilepsys vs seizures"
   ]
  },
  {
   "cell_type": "markdown",
   "metadata": {},
   "source": []
  },
  {
   "cell_type": "code",
   "execution_count": null,
   "metadata": {
    "collapsed": true
   },
   "outputs": [],
   "source": []
  },
  {
   "cell_type": "code",
   "execution_count": null,
   "metadata": {
    "collapsed": true
   },
   "outputs": [],
   "source": []
  },
  {
   "cell_type": "code",
   "execution_count": null,
   "metadata": {
    "collapsed": true
   },
   "outputs": [],
   "source": []
  },
  {
   "cell_type": "markdown",
   "metadata": {},
   "source": [
    "### Features selection "
   ]
  },
  {
   "cell_type": "code",
   "execution_count": 57,
   "metadata": {
    "collapsed": false
   },
   "outputs": [
    {
     "data": {
      "text/html": [
       "<div>\n",
       "<table border=\"1\" class=\"dataframe\">\n",
       "  <thead>\n",
       "    <tr style=\"text-align: right;\">\n",
       "      <th></th>\n",
       "      <th>epilepsy7</th>\n",
       "      <th>epilepsy11</th>\n",
       "      <th>epilepsy16</th>\n",
       "      <th>seizure7</th>\n",
       "      <th>seizure11</th>\n",
       "      <th>seizure16</th>\n",
       "      <th>seizure</th>\n",
       "      <th>epilepsy</th>\n",
       "    </tr>\n",
       "  </thead>\n",
       "  <tbody>\n",
       "    <tr>\n",
       "      <th>0</th>\n",
       "      <td>no</td>\n",
       "      <td>no</td>\n",
       "      <td>no</td>\n",
       "      <td>0</td>\n",
       "      <td>0</td>\n",
       "      <td>0</td>\n",
       "      <td>0</td>\n",
       "      <td>0</td>\n",
       "    </tr>\n",
       "    <tr>\n",
       "      <th>1</th>\n",
       "      <td>no</td>\n",
       "      <td>-1</td>\n",
       "      <td>no</td>\n",
       "      <td>0</td>\n",
       "      <td>0</td>\n",
       "      <td>0</td>\n",
       "      <td>0</td>\n",
       "      <td>0</td>\n",
       "    </tr>\n",
       "    <tr>\n",
       "      <th>2</th>\n",
       "      <td>no</td>\n",
       "      <td>no</td>\n",
       "      <td>no</td>\n",
       "      <td>0</td>\n",
       "      <td>0</td>\n",
       "      <td>0</td>\n",
       "      <td>0</td>\n",
       "      <td>0</td>\n",
       "    </tr>\n",
       "    <tr>\n",
       "      <th>3</th>\n",
       "      <td>no</td>\n",
       "      <td>no</td>\n",
       "      <td>no</td>\n",
       "      <td>0</td>\n",
       "      <td>0</td>\n",
       "      <td>0</td>\n",
       "      <td>0</td>\n",
       "      <td>0</td>\n",
       "    </tr>\n",
       "    <tr>\n",
       "      <th>4</th>\n",
       "      <td>no</td>\n",
       "      <td>no</td>\n",
       "      <td>no</td>\n",
       "      <td>0</td>\n",
       "      <td>0</td>\n",
       "      <td>0</td>\n",
       "      <td>0</td>\n",
       "      <td>0</td>\n",
       "    </tr>\n",
       "  </tbody>\n",
       "</table>\n",
       "</div>"
      ],
      "text/plain": [
       "  epilepsy7 epilepsy11 epilepsy16  seizure7  seizure11  seizure16  seizure  \\\n",
       "0        no         no         no         0          0          0        0   \n",
       "1        no         -1         no         0          0          0        0   \n",
       "2        no         no         no         0          0          0        0   \n",
       "3        no         no         no         0          0          0        0   \n",
       "4        no         no         no         0          0          0        0   \n",
       "\n",
       "   epilepsy  \n",
       "0         0  \n",
       "1         0  \n",
       "2         0  \n",
       "3         0  \n",
       "4         0  "
      ]
     },
     "execution_count": 57,
     "metadata": {},
     "output_type": "execute_result"
    }
   ],
   "source": [
    "epilepsy_response.head()"
   ]
  },
  {
   "cell_type": "code",
   "execution_count": 58,
   "metadata": {
    "collapsed": false
   },
   "outputs": [],
   "source": [
    "# the response variables columns\n",
    "#response_columns = ['y_epilepsy', 'y_convulsions_epilepsy', 'y_convulsions']\n",
    "# predictors\n",
    "#feature_columns = [ x for x in data_main_clean_2.columns if not any(m == x for m in response_columns)]\n",
    "X_train = data_main_mapped.copy()\n",
    "# the response variables\n",
    "y_1 = epilepsy_response['seizure']\n",
    "#y_2 = epilepsy_response['epilepsy']\n",
    "y_2 = [0 if x==0 else 1 if (x==1 and y==1) else 2 if (x==1 and y==0) else 9 for\\\n",
    "                                             x, y in zip(epilepsy_response.seizure,epilepsy_response.epilepsy)]"
   ]
  },
  {
   "cell_type": "code",
   "execution_count": 59,
   "metadata": {
    "collapsed": false
   },
   "outputs": [
    {
     "ename": "NameError",
     "evalue": "name 'Counter' is not defined",
     "output_type": "error",
     "traceback": [
      "\u001b[0;31m---------------------------------------------------------------------------\u001b[0m",
      "\u001b[0;31mNameError\u001b[0m                                 Traceback (most recent call last)",
      "\u001b[0;32m<ipython-input-59-db96d4162fd9>\u001b[0m in \u001b[0;36m<module>\u001b[0;34m()\u001b[0m\n\u001b[0;32m----> 1\u001b[0;31m \u001b[0;32mprint\u001b[0m \u001b[0mCounter\u001b[0m\u001b[0;34m(\u001b[0m\u001b[0my_1\u001b[0m\u001b[0;34m)\u001b[0m\u001b[0;34m\u001b[0m\u001b[0m\n\u001b[0m\u001b[1;32m      2\u001b[0m \u001b[0;32mprint\u001b[0m \u001b[0mCounter\u001b[0m\u001b[0;34m(\u001b[0m\u001b[0my_2\u001b[0m\u001b[0;34m)\u001b[0m\u001b[0;34m\u001b[0m\u001b[0m\n",
      "\u001b[0;31mNameError\u001b[0m: name 'Counter' is not defined"
     ]
    }
   ],
   "source": [
    "print Counter(y_1)\n",
    "print Counter(y_2)"
   ]
  },
  {
   "cell_type": "code",
   "execution_count": 60,
   "metadata": {
    "collapsed": true
   },
   "outputs": [],
   "source": [
    "numeric_columns = [x for x,y in zip(X_train.columns, X_train.dtypes) if any([ y == m for m in ['int64', 'float64']]) ]\n",
    "cat_columns = [x for x,y in zip(X_train.columns, X_train.dtypes) if not any([ y == m for m in ['int64', 'float64']]) ]"
   ]
  },
  {
   "cell_type": "code",
   "execution_count": 61,
   "metadata": {
    "collapsed": false
   },
   "outputs": [
    {
     "data": {
      "text/plain": [
       "((18558, 1707), 1461, 246)"
      ]
     },
     "execution_count": 61,
     "metadata": {},
     "output_type": "execute_result"
    }
   ],
   "source": [
    "data_main_mapped.shape, len(cat_columns), len(numeric_columns)"
   ]
  },
  {
   "cell_type": "code",
   "execution_count": 62,
   "metadata": {
    "collapsed": false
   },
   "outputs": [
    {
     "data": {
      "text/plain": [
       "'0 mums paid job when starting this baby (gro 1951)'"
      ]
     },
     "execution_count": 62,
     "metadata": {},
     "output_type": "execute_result"
    }
   ],
   "source": [
    "cat_columns[10]"
   ]
  },
  {
   "cell_type": "code",
   "execution_count": 63,
   "metadata": {
    "collapsed": false
   },
   "outputs": [],
   "source": [
    "#mask = X_train.apply(lambda x : 'Categorical' if len(x.unique()) < 15 else 'Numeric')\n",
    "#mask.shape\n",
    "# cat_columns = mask[(mask == 'Categorical')].index.values\n",
    "# cat_columns\n",
    "# len(cat_columns)"
   ]
  },
  {
   "cell_type": "code",
   "execution_count": 64,
   "metadata": {
    "collapsed": false
   },
   "outputs": [],
   "source": [
    "#X_train.head()"
   ]
  },
  {
   "cell_type": "code",
   "execution_count": 65,
   "metadata": {
    "collapsed": false
   },
   "outputs": [],
   "source": [
    "# Encoding the categorical variables \n",
    "X_train_2 = encode_onehot(X_train, cat_columns)"
   ]
  },
  {
   "cell_type": "code",
   "execution_count": 66,
   "metadata": {
    "collapsed": false
   },
   "outputs": [
    {
     "data": {
      "text/plain": [
       "(18558, 30275)"
      ]
     },
     "execution_count": 66,
     "metadata": {},
     "output_type": "execute_result"
    }
   ],
   "source": [
    "X_train_2.shape"
   ]
  },
  {
   "cell_type": "code",
   "execution_count": 67,
   "metadata": {
    "collapsed": false
   },
   "outputs": [],
   "source": [
    "#X_train_2.head()"
   ]
  },
  {
   "cell_type": "code",
   "execution_count": 68,
   "metadata": {
    "collapsed": false
   },
   "outputs": [],
   "source": [
    "X_train_2 = X_train_2.fillna(0)"
   ]
  },
  {
   "cell_type": "code",
   "execution_count": 69,
   "metadata": {
    "collapsed": true
   },
   "outputs": [],
   "source": [
    "X_train_2 = clean_column_names(X_train_2)"
   ]
  },
  {
   "cell_type": "code",
   "execution_count": 70,
   "metadata": {
    "collapsed": false
   },
   "outputs": [
    {
     "data": {
      "text/plain": [
       "((18558, 30275), (18558,))"
      ]
     },
     "execution_count": 70,
     "metadata": {},
     "output_type": "execute_result"
    }
   ],
   "source": [
    "X_train_2.shape, y_1.shape"
   ]
  },
  {
   "cell_type": "code",
   "execution_count": 71,
   "metadata": {
    "collapsed": false
   },
   "outputs": [],
   "source": [
    "#list(y_1.values)"
   ]
  },
  {
   "cell_type": "code",
   "execution_count": 72,
   "metadata": {
    "collapsed": false
   },
   "outputs": [],
   "source": [
    "from sklearn.ensemble import ExtraTreesClassifier\n",
    "# Build a forest and compute the feature importances\n",
    "forest = ExtraTreesClassifier(n_estimators=250,\n",
    "                              random_state=7)\n",
    "\n",
    "forest.fit(X_train_2.values, list(y_1.values))\n",
    "#importances = forest.feature_importances_\n",
    "\n",
    "feature_importances = zip(X_train_2.columns, forest.feature_importances_)\n",
    "\n",
    "sorted_feature = sorted(feature_importances, key= lambda x: x[1], reverse=True)\n",
    "#print sorted_feature[:20]"
   ]
  },
  {
   "cell_type": "code",
   "execution_count": 73,
   "metadata": {
    "collapsed": false
   },
   "outputs": [
    {
     "data": {
      "image/png": "[encoded data removed]",
      "text/plain": [
       "<matplotlib.figure.Figure at 0x17f4b1a90>"
      ]
     },
     "metadata": {},
     "output_type": "display_data"
    }
   ],
   "source": [
    "fig = plt.figure(figsize=(20, 20))\n",
    "sns.set_color_codes(\"pastel\")\n",
    "sns.barplot(y=\"features\", x=\"importance\", data=pd.DataFrame({'features':[x for x,y in sorted_feature[:20]], \n",
    "                                                            'importance': [y for x,y in sorted_feature[:20]]}),\n",
    "            label=\"Total\", color=\"b\");"
   ]
  },
  {
   "cell_type": "code",
   "execution_count": 74,
   "metadata": {
    "collapsed": false
   },
   "outputs": [],
   "source": [
    "from sklearn.ensemble import ExtraTreesClassifier\n",
    "# Build a forest and compute the feature importances\n",
    "forest = ExtraTreesClassifier(n_estimators=250,\n",
    "                              random_state=7)\n",
    "\n",
    "forest.fit(X_train_2.values, y_2)\n",
    "#importances = forest.feature_importances_\n",
    "\n",
    "feature_importances = zip(X_train_2.columns, forest.feature_importances_)\n",
    "\n",
    "sorted_feature = sorted(feature_importances, key= lambda x: x[1], reverse=True)\n",
    "#print sorted_feature[:20]"
   ]
  },
  {
   "cell_type": "code",
   "execution_count": 75,
   "metadata": {
    "collapsed": false
   },
   "outputs": [
    {
     "data": {
      "image/png": "[encoded data removed]",
      "text/plain": [
       "<matplotlib.figure.Figure at 0x10fba4d10>"
      ]
     },
     "metadata": {},
     "output_type": "display_data"
    }
   ],
   "source": [
    "fig = plt.figure(figsize=(20, 20))\n",
    "sns.set_color_codes(\"pastel\")\n",
    "sns.barplot(y=\"features\", x=\"importance\", data=pd.DataFrame({'features':[x for x,y in sorted_feature[:20]], \n",
    "                                                            'importance': [y for x,y in sorted_feature[:20]]}),\n",
    "            label=\"Total\", color=\"r\");"
   ]
  },
  {
   "cell_type": "markdown",
   "metadata": {},
   "source": [
    "### Baseline model"
   ]
  },
  {
   "cell_type": "code",
   "execution_count": 76,
   "metadata": {
    "collapsed": false
   },
   "outputs": [
    {
     "name": "stdout",
     "output_type": "stream",
     "text": [
      "Automatically created module for IPython interactive environment\n"
     ]
    }
   ],
   "source": [
    "print(__doc__)\n",
    "\n",
    "import matplotlib.pyplot as plt\n",
    "import seaborn as sns\n",
    "from sklearn.datasets import make_classification\n",
    "from sklearn.decomposition import PCA\n",
    "from imblearn.over_sampling import ADASYN\n",
    "from imblearn.combine import SMOTEENN\n",
    "from imblearn.over_sampling import RandomOverSampler\n",
    "\n",
    "sns.set()"
   ]
  },
  {
   "cell_type": "markdown",
   "metadata": {},
   "source": [
    "#### Logistic Regression"
   ]
  },
  {
   "cell_type": "code",
   "execution_count": 77,
   "metadata": {
    "collapsed": false
   },
   "outputs": [],
   "source": [
    "from sklearn import cross_validation, metrics   #Additional scklearn functions\n",
    "from sklearn.grid_search import GridSearchCV   #Perforing grid search\n",
    "from sklearn.metrics import accuracy_score\n",
    "from sklearn.grid_search import GridSearchCV\n",
    "from sklearn.cross_validation import train_test_split\n",
    "from sklearn.metrics import confusion_matrix\n",
    "from sklearn.metrics import roc_curve\n",
    "from sklearn.metrics import classification_report\n",
    "from sklearn import metrics\n",
    "from matplotlib import pyplot"
   ]
  },
  {
   "cell_type": "code",
   "execution_count": 78,
   "metadata": {
    "collapsed": true
   },
   "outputs": [],
   "source": [
    "from sklearn.linear_model import LogisticRegression\n",
    "from sklearn.discriminant_analysis import LinearDiscriminantAnalysis"
   ]
  },
  {
   "cell_type": "code",
   "execution_count": 79,
   "metadata": {
    "collapsed": false
   },
   "outputs": [],
   "source": [
    "test_size = 0.33\n",
    "X_train_3, X_test_3, y_train_3, y_test_3 = cross_validation.train_test_split(X_train_2\\\n",
    "                                                                             [[x for x,y in sorted_feature[:20]]],\n",
    "                                                                             list(y_1.values))"
   ]
  },
  {
   "cell_type": "code",
   "execution_count": 80,
   "metadata": {
    "collapsed": false
   },
   "outputs": [
    {
     "name": "stdout",
     "output_type": "stream",
     "text": [
      "                precision    recall  f1-score   support\n",
      "\n",
      "No Convulsions       0.97      0.93      0.95      4299\n",
      "   Convulsions       0.43      0.67      0.52       341\n",
      "\n",
      "   avg / total       0.93      0.91      0.92      4640\n",
      "\n",
      "F1 Score is: 0.523041474654\n",
      "Cohen's Kappa Score is: 0.476307391335\n"
     ]
    }
   ],
   "source": [
    "model = LogisticRegression(class_weight='balanced',)\n",
    "model.fit(X_train_3, y_train_3)\n",
    "y_pred = model.predict(X_test_3)\n",
    "target_names = ['No Convulsions', 'Convulsions']\n",
    "print(classification_report(y_test_3, y_pred, target_names=target_names))\n",
    "print 'F1 Score is:', metrics.f1_score(y_test_3, y_pred, pos_label=1)\n",
    "print \"Cohen's Kappa Score is:\", metrics.cohen_kappa_score(y_test_3, y_pred,)"
   ]
  },
  {
   "cell_type": "code",
   "execution_count": 81,
   "metadata": {
    "collapsed": false
   },
   "outputs": [],
   "source": [
    "test_size = 0.33\n",
    "X_train_4, X_test_4, y_train_4, y_test_4 = cross_validation.train_test_split(X_train_2\\\n",
    "                                                                             [[x for x,y in sorted_feature[:20]]],\n",
    "                                                                             list(y_2))"
   ]
  },
  {
   "cell_type": "code",
   "execution_count": 82,
   "metadata": {
    "collapsed": false
   },
   "outputs": [
    {
     "name": "stdout",
     "output_type": "stream",
     "text": [
      "                          precision    recall  f1-score   support\n",
      "\n",
      "          No Convulsions       0.96      0.97      0.97      4306\n",
      "             Convulsions       0.48      0.58      0.53        79\n",
      "Convulsions_and_Epilepsy       0.45      0.34      0.39       255\n",
      "\n",
      "             avg / total       0.93      0.93      0.93      4640\n",
      "\n",
      "Accuracy Score on test is: 0.933189655172\n",
      "Cohen's Kappa Score is: 0.475279706122\n"
     ]
    }
   ],
   "source": [
    "model = LogisticRegression(class_weight='balanced')\n",
    "model.fit(X_train_4, y_train_4)\n",
    "y_pred = model.predict(X_test_4)\n",
    "target_names = ['No Convulsions','Convulsions', 'Convulsions_and_Epilepsy']\n",
    "print(classification_report(y_test_4, y_pred, target_names=target_names))\n",
    "print 'Accuracy Score on test is:', metrics.accuracy_score(y_test_4, y_pred,)\n",
    "print \"Cohen's Kappa Score is:\", metrics.cohen_kappa_score(y_test_4, y_pred,)"
   ]
  },
  {
   "cell_type": "markdown",
   "metadata": {},
   "source": [
    "The accuracy is high because we are overfitting."
   ]
  },
  {
   "cell_type": "markdown",
   "metadata": {},
   "source": [
    "#### LDA"
   ]
  },
  {
   "cell_type": "code",
   "execution_count": 83,
   "metadata": {
    "collapsed": false
   },
   "outputs": [
    {
     "name": "stdout",
     "output_type": "stream",
     "text": [
      "                precision    recall  f1-score   support\n",
      "\n",
      "No Convulsions       0.97      0.99      0.98      4299\n",
      "   Convulsions       0.87      0.55      0.67       341\n",
      "\n",
      "   avg / total       0.96      0.96      0.96      4640\n",
      "\n",
      "F1 Score is: 0.672661870504\n",
      "Cohen's Kappa Score is: 0.652935833734\n"
     ]
    }
   ],
   "source": [
    "model = LinearDiscriminantAnalysis()\n",
    "model.fit(X_train_3, y_train_3)\n",
    "y_pred = model.predict(X_test_3)\n",
    "target_names = ['No Convulsions', 'Convulsions']\n",
    "print(classification_report(y_test_3, y_pred, target_names=target_names))\n",
    "print 'F1 Score is:', metrics.f1_score(y_test_3, y_pred, pos_label=1)\n",
    "print \"Cohen's Kappa Score is:\", metrics.cohen_kappa_score(y_test_3, y_pred,)"
   ]
  },
  {
   "cell_type": "code",
   "execution_count": 84,
   "metadata": {
    "collapsed": false
   },
   "outputs": [
    {
     "name": "stdout",
     "output_type": "stream",
     "text": [
      "                          precision    recall  f1-score   support\n",
      "\n",
      "          No Convulsions       0.96      0.99      0.98      4306\n",
      "             Convulsions       0.52      0.58      0.55        79\n",
      "Convulsions_and_Epilepsy       0.66      0.25      0.37       255\n",
      "\n",
      "             avg / total       0.94      0.95      0.94      4640\n",
      "\n",
      "Accuracy Score on test is: 0.945474137931\n",
      "Cohen's Kappa Score is: 0.494644981125\n"
     ]
    }
   ],
   "source": [
    "model = LinearDiscriminantAnalysis()\n",
    "model.fit(X_train_4, y_train_4)\n",
    "y_pred = model.predict(X_test_4)\n",
    "target_names = ['No Convulsions','Convulsions', 'Convulsions_and_Epilepsy']\n",
    "print(classification_report(y_test_4, y_pred, target_names=target_names))\n",
    "print 'Accuracy Score on test is:', metrics.accuracy_score(y_test_4, y_pred,)\n",
    "print \"Cohen's Kappa Score is:\", metrics.cohen_kappa_score(y_test_4, y_pred,)"
   ]
  },
  {
   "cell_type": "markdown",
   "metadata": {},
   "source": [
    "#### Handling the imbalanced classes"
   ]
  },
  {
   "cell_type": "code",
   "execution_count": 85,
   "metadata": {
    "collapsed": false
   },
   "outputs": [],
   "source": [
    "#SMOTE: Synthetic Minority Over-sampling Technique\n",
    "# Apply SMOTE + ENN\n",
    "#sm = SMOTEENN(0.1)\n",
    "#X_resampled, y_resampled = sm.fit_sample(X_train_2.values, y_2)"
   ]
  },
  {
   "cell_type": "markdown",
   "metadata": {},
   "source": [
    "#### Handling the missing values"
   ]
  },
  {
   "cell_type": "code",
   "execution_count": null,
   "metadata": {
    "collapsed": true
   },
   "outputs": [],
   "source": []
  },
  {
   "cell_type": "markdown",
   "metadata": {},
   "source": [
    "## Models: Seizure"
   ]
  },
  {
   "cell_type": "markdown",
   "metadata": {},
   "source": [
    "### Features reduction"
   ]
  },
  {
   "cell_type": "code",
   "execution_count": 86,
   "metadata": {
    "collapsed": false
   },
   "outputs": [],
   "source": [
    "scores_l1 = []\n",
    "Cs = []\n",
    "\n",
    "for i in range(10, 500, 10):\n",
    "    X_train_3, X_test_3, y_train_3, y_test_3 = cross_validation.train_test_split(X_train_2\\\n",
    "                                                                             [[x for x,y in sorted_feature[:i]]],\n",
    "                                                                             list(y_1.values))\n",
    "    LogReg_l1 = LogisticRegression()\n",
    "    LogReg_l1.fit(X_train_3, y_train_3)\n",
    "    y_pred_l1 = LogReg_l1.predict(X_test_3)\n",
    "    \n",
    "    Cs.append(i)\n",
    "    scores_l1.append(metrics.cohen_kappa_score(y_test_3, y_pred_l1,))\n"
   ]
  },
  {
   "cell_type": "code",
   "execution_count": 87,
   "metadata": {
    "collapsed": false
   },
   "outputs": [
    {
     "data": {
      "image/png": "[encoded data removed]",
      "text/plain": [
       "<matplotlib.figure.Figure at 0x1103f8a90>"
      ]
     },
     "metadata": {},
     "output_type": "display_data"
    }
   ],
   "source": [
    "fig = plt.figure(figsize=(20, 10))    \n",
    "plt.plot(Cs, scores_l1, color='red',lw=3)\n",
    "#plt.plot(Cs, scores_l2,  color='blue', lw=3)\n",
    "plt.xlabel (\"Number of features\")\n",
    "plt.ylabel(\"score\")\n",
    "plt.ylim(0.5,0.8)\n",
    "plt.legend(loc = 'best')\n",
    "plt.show()"
   ]
  },
  {
   "cell_type": "markdown",
   "metadata": {
    "collapsed": true
   },
   "source": [
    "The optimal number of important features seems to be around 80"
   ]
  },
  {
   "cell_type": "markdown",
   "metadata": {},
   "source": [
    "## RandomOverSampler"
   ]
  },
  {
   "cell_type": "code",
   "execution_count": 88,
   "metadata": {
    "collapsed": true
   },
   "outputs": [],
   "source": [
    "from imblearn.over_sampling import RandomOverSampler\n",
    "seed = 7\n",
    "sm = RandomOverSampler(ratio=0.15, random_state=seed)\n",
    "\n",
    "X_resampled, y_resampled = sm.fit_sample((X_train_2[[x for x,y in sorted_feature[:80]]]),list(y_1.values))\n",
    "test_size = 0.33\n",
    "X_train_3, X_test_3, y_train_3, y_test_3 = cross_validation.train_test_split(X_resampled, y_resampled,\n",
    "                                                                     test_size=test_size, random_state=seed)"
   ]
  },
  {
   "cell_type": "markdown",
   "metadata": {},
   "source": [
    "### Random Forest"
   ]
  },
  {
   "cell_type": "code",
   "execution_count": 89,
   "metadata": {
    "collapsed": false
   },
   "outputs": [],
   "source": [
    "model = RandomForestClassifier()\n",
    "model.fit(X_train_3, y_train_3)\n",
    "y_pred_3 = model.predict(X_test_3)"
   ]
  },
  {
   "cell_type": "code",
   "execution_count": 91,
   "metadata": {
    "collapsed": false
   },
   "outputs": [
    {
     "name": "stdout",
     "output_type": "stream",
     "text": [
      "                precision    recall  f1-score   support\n",
      "\n",
      "No Convulsions       0.96      1.00      0.98      5622\n",
      "   Convulsions       0.96      0.72      0.83       884\n",
      "\n",
      "   avg / total       0.96      0.96      0.96      6506\n",
      "\n",
      "cohen_kappa_score Score is: 0.80215271193\n"
     ]
    }
   ],
   "source": [
    "target_names = ['No Convulsions', 'Convulsions']\n",
    "print(classification_report(y_test_3, y_pred_3, target_names=target_names))\n",
    "print 'cohen_kappa_score Score is:', metrics.cohen_kappa_score(y_test_3, y_pred_3)"
   ]
  },
  {
   "cell_type": "markdown",
   "metadata": {},
   "source": [
    "### Boosting"
   ]
  },
  {
   "cell_type": "code",
   "execution_count": 92,
   "metadata": {
    "collapsed": false
   },
   "outputs": [],
   "source": [
    "model = XGBClassifier()\n",
    "model.fit(X_train_3, y_train_3)\n",
    "y_pred_3 = model.predict(X_test_3)"
   ]
  },
  {
   "cell_type": "code",
   "execution_count": 93,
   "metadata": {
    "collapsed": false
   },
   "outputs": [
    {
     "name": "stdout",
     "output_type": "stream",
     "text": [
      "                precision    recall  f1-score   support\n",
      "\n",
      "No Convulsions       0.93      1.00      0.96      5622\n",
      "   Convulsions       0.95      0.50      0.65       884\n",
      "\n",
      "   avg / total       0.93      0.93      0.92      6506\n",
      "\n",
      "cohen_kappa_score Score is: 0.617583037781\n"
     ]
    }
   ],
   "source": [
    "target_names = ['No Convulsions', 'Convulsions']\n",
    "print(classification_report(y_test_3, y_pred_3, target_names=target_names))\n",
    "print 'cohen_kappa_score Score is:', metrics.cohen_kappa_score(y_test_3, y_pred_3)"
   ]
  },
  {
   "cell_type": "markdown",
   "metadata": {},
   "source": [
    "### Support vector machine"
   ]
  },
  {
   "cell_type": "code",
   "execution_count": 94,
   "metadata": {
    "collapsed": true
   },
   "outputs": [],
   "source": [
    "model = SVC(gamma=6, C=100)\n",
    "model.fit(X_train_3, y_train_3)\n",
    "y_pred_3 = model.predict(X_test_3)"
   ]
  },
  {
   "cell_type": "code",
   "execution_count": 95,
   "metadata": {
    "collapsed": false
   },
   "outputs": [
    {
     "name": "stdout",
     "output_type": "stream",
     "text": [
      "                precision    recall  f1-score   support\n",
      "\n",
      "No Convulsions       0.94      1.00      0.97      5622\n",
      "   Convulsions       1.00      0.58      0.73       884\n",
      "\n",
      "   avg / total       0.95      0.94      0.94      6506\n",
      "\n",
      "cohen_kappa_score Score is: 0.703057673723\n"
     ]
    }
   ],
   "source": [
    "target_names = ['No Convulsions', 'Convulsions']\n",
    "print(classification_report(y_test_3, y_pred_3, target_names=target_names))\n",
    "print 'cohen_kappa_score Score is:', metrics.cohen_kappa_score(y_test_3, y_pred_3)"
   ]
  },
  {
   "cell_type": "markdown",
   "metadata": {},
   "source": [
    "## SMOTEENN"
   ]
  },
  {
   "cell_type": "code",
   "execution_count": 96,
   "metadata": {
    "collapsed": true
   },
   "outputs": [],
   "source": [
    "seed = 7\n",
    "sm = SMOTEENN(ratio=0.15, random_state=seed)\n",
    "X_resampled, y_resampled = sm.fit_sample((X_train_2[[x for x,y in sorted_feature[:80]]]),list(y_1.values))\n",
    "test_size = 0.33\n",
    "X_train_4, X_test_4, y_train_4, y_test_4 = cross_validation.train_test_split(X_resampled, y_resampled,\n",
    "                                                                     test_size=test_size, random_state=seed)"
   ]
  },
  {
   "cell_type": "markdown",
   "metadata": {},
   "source": [
    "### Random Forest"
   ]
  },
  {
   "cell_type": "code",
   "execution_count": 97,
   "metadata": {
    "collapsed": false
   },
   "outputs": [],
   "source": [
    "model = RandomForestClassifier()\n",
    "model.fit(X_train_4, y_train_4)\n",
    "y_pred_4 = model.predict(X_test_4)"
   ]
  },
  {
   "cell_type": "code",
   "execution_count": 98,
   "metadata": {
    "collapsed": false
   },
   "outputs": [
    {
     "name": "stdout",
     "output_type": "stream",
     "text": [
      "                precision    recall  f1-score   support\n",
      "\n",
      "No Convulsions       0.95      0.99      0.97      4375\n",
      "   Convulsions       0.96      0.71      0.81       843\n",
      "\n",
      "   avg / total       0.95      0.95      0.94      5218\n",
      "\n",
      "cohen_kappa_score Score is: 0.784467983846\n"
     ]
    }
   ],
   "source": [
    "target_names = ['No Convulsions', 'Convulsions']\n",
    "print(classification_report(y_test_4, y_pred_4, target_names=target_names))\n",
    "print 'cohen_kappa_score Score is:', metrics.cohen_kappa_score(y_test_4, y_pred_4)"
   ]
  },
  {
   "cell_type": "markdown",
   "metadata": {},
   "source": [
    "### Boosting"
   ]
  },
  {
   "cell_type": "code",
   "execution_count": 99,
   "metadata": {
    "collapsed": true
   },
   "outputs": [],
   "source": [
    "model = XGBClassifier()\n",
    "model.fit(X_train_4, y_train_4)\n",
    "y_pred_4 = model.predict(X_test_4)"
   ]
  },
  {
   "cell_type": "code",
   "execution_count": 100,
   "metadata": {
    "collapsed": false
   },
   "outputs": [
    {
     "name": "stdout",
     "output_type": "stream",
     "text": [
      "                precision    recall  f1-score   support\n",
      "\n",
      "No Convulsions       0.94      1.00      0.97      4375\n",
      "   Convulsions       0.97      0.69      0.81       843\n",
      "\n",
      "   avg / total       0.95      0.95      0.94      5218\n",
      "\n",
      "cohen_kappa_score Score is: 0.775479463464\n"
     ]
    }
   ],
   "source": [
    "target_names = ['No Convulsions', 'Convulsions']\n",
    "print(classification_report(y_test_4, y_pred_4, target_names=target_names))\n",
    "print 'cohen_kappa_score Score is:', metrics.cohen_kappa_score(y_test_4, y_pred_4)"
   ]
  },
  {
   "cell_type": "markdown",
   "metadata": {},
   "source": [
    "### Support vector machine"
   ]
  },
  {
   "cell_type": "code",
   "execution_count": 105,
   "metadata": {
    "collapsed": true
   },
   "outputs": [],
   "source": [
    "model = SVC()\n",
    "model.fit(X_train_4, y_train_4)\n",
    "y_pred_4 = model.predict(X_test_4)"
   ]
  },
  {
   "cell_type": "code",
   "execution_count": 106,
   "metadata": {
    "collapsed": false
   },
   "outputs": [
    {
     "name": "stdout",
     "output_type": "stream",
     "text": [
      "                precision    recall  f1-score   support\n",
      "\n",
      "No Convulsions       0.89      1.00      0.94      4375\n",
      "   Convulsions       0.98      0.37      0.53       843\n",
      "\n",
      "   avg / total       0.91      0.90      0.88      5218\n",
      "\n",
      "cohen_kappa_score Score is: 0.489362219767\n"
     ]
    }
   ],
   "source": [
    "target_names = ['No Convulsions', 'Convulsions']\n",
    "print(classification_report(y_test_4, y_pred_4, target_names=target_names))\n",
    "print 'cohen_kappa_score Score is:', metrics.cohen_kappa_score(y_test_4, y_pred_4)"
   ]
  },
  {
   "cell_type": "code",
   "execution_count": null,
   "metadata": {
    "collapsed": true
   },
   "outputs": [],
   "source": []
  },
  {
   "cell_type": "markdown",
   "metadata": {},
   "source": [
    "## Models: Epilepsy"
   ]
  },
  {
   "cell_type": "code",
   "execution_count": null,
   "metadata": {
    "collapsed": true
   },
   "outputs": [],
   "source": []
  },
  {
   "cell_type": "code",
   "execution_count": null,
   "metadata": {
    "collapsed": true
   },
   "outputs": [],
   "source": []
  },
  {
   "cell_type": "markdown",
   "metadata": {},
   "source": [
    "### Appendices"
   ]
  },
  {
   "cell_type": "markdown",
   "metadata": {},
   "source": [
    "#### Dealing with missing values"
   ]
  },
  {
   "cell_type": "code",
   "execution_count": null,
   "metadata": {
    "collapsed": false
   },
   "outputs": [],
   "source": [
    "#missing_df = pd.read_csv('./dataset/dataset_1_missing.txt')\n",
    "#full_df = pd.read_csv('./dataset/dataset_1_full.txt')\n",
    "\n",
    "#no_y_ind = missing_df[missing_df['y'].isnull()].index\n",
    "#with_y_ind = missing_df[missing_df['y'].notnull()].index\n",
    "\n",
    "#number of neighbours\n",
    "#k=3\n",
    "\n",
    "#predicted_knn, r_knn = fill_knn(missing_df, full_df, no_y_ind, with_y_ind, k)\n",
    "#print 'R^2 value of KNN fit, for k=', k, ': ', r_knn"
   ]
  },
  {
   "cell_type": "markdown",
   "metadata": {},
   "source": [
    "#### PCA, Resampling and Visuation"
   ]
  },
  {
   "cell_type": "code",
   "execution_count": null,
   "metadata": {
    "collapsed": false
   },
   "outputs": [],
   "source": [
    "from sklearn import preprocessing\n",
    "X_train_2_pre = preprocessing.scale(X_train_2)\n",
    "\n",
    "# Define some color for the plotting\n",
    "almost_black = '#262626'\n",
    "palette = sns.color_palette()\n",
    "\n",
    "# Instanciate a PCA object for the sake of easy visualisation\n",
    "pca = PCA(n_components=3)\n",
    "# Fit and transform x to visualise inside a 2D feature space\n",
    "X_vis = pca.fit_transform(X_train_2_pre)\n",
    "\n",
    "# Apply SMOTE + ENN\n",
    "sm = SMOTEENN(0.1)\n",
    "X_resampled, y_resampled = sm.fit_sample(X_train_2.values, list(y_2.values))\n",
    "X_res_vis = pca.transform(X_resampled)\n",
    "\n",
    "#fig = plt.figure(figsize=(15, 5))\n",
    "# Two subplots, unpack the axes array immediately\n",
    "#f, (ax1, ax2) = plt.subplots(1, 2, projection='3d')\n",
    "fig, ((ax1, ax2)) =  plt.subplots(1, 2, figsize=(20, 10))\n",
    "ax1.scatter(X_vis[y == 0, 0], X_vis[y == 0, 1], label=\"Class #0\", alpha=0.5,\n",
    "            edgecolor=almost_black, facecolor=palette[0], linewidth=0.15)\n",
    "ax1.scatter(X_vis[y == 1, 0], X_vis[y == 1, 1], label=\"Class #1\", alpha=0.5,\n",
    "            edgecolor=almost_black, facecolor=palette[2], linewidth=0.15)\n",
    "ax1.set_title('Original set')\n",
    "\n",
    "\n",
    "ax2.scatter(X_res_vis[y_resampled == 0, 0], X_res_vis[y_resampled == 0, 1],\n",
    "            label=\"Class #0\", alpha=.5, edgecolor=almost_black,\n",
    "            facecolor=palette[0], linewidth=0.15)\n",
    "ax2.scatter(X_res_vis[y_resampled == 1, 0], X_res_vis[y_resampled == 1, 1],\n",
    "            label=\"Class #1\", alpha=.5, edgecolor=almost_black,\n",
    "            facecolor=palette[2], linewidth=0.15)\n",
    "ax2.set_title('SMOTE + ENN')\n",
    "\n",
    "plt.show()"
   ]
  },
  {
   "cell_type": "code",
   "execution_count": null,
   "metadata": {
    "collapsed": false
   },
   "outputs": [],
   "source": [
    "from sklearn import preprocessing\n",
    "X_train_2_pre = preprocessing.scale(X_train_2)\n",
    "\n",
    "# Define some color for the plotting\n",
    "almost_black = '#262626'\n",
    "palette = sns.color_palette()\n",
    "\n",
    "# Instanciate a PCA object for the sake of easy visualisation\n",
    "pca = PCA(n_components=3)\n",
    "# Fit and transform x to visualise inside a 2D feature space\n",
    "X_vis = pca.fit_transform(X_train_2_pre)\n",
    "\n",
    "# Apply Over Sampling\n",
    "sm = RandomOverSampler(0.1)\n",
    "X_resampled, y_resampled = sm.fit_sample(X_train_2.values, list(y_2))\n",
    "X_res_vis = pca.transform(X_resampled)\n",
    "\n",
    "#fig = plt.figure(figsize=(15, 5))\n",
    "# Two subplots, unpack the axes array immediately\n",
    "#f, (ax1, ax2) = plt.subplots(1, 2, projection='3d')\n",
    "fig, ((ax1, ax2)) =  plt.subplots(1, 2, figsize=(20, 10))\n",
    "ax1.scatter(X_vis[y == 0, 0], X_vis[y == 0, 1], label=\"Class #0\", alpha=0.5,\n",
    "            edgecolor=almost_black, facecolor=palette[0], linewidth=0.15)\n",
    "ax1.scatter(X_vis[y == 1, 0], X_vis[y == 1, 1], label=\"Class #1\", alpha=0.5,\n",
    "            edgecolor=almost_black, facecolor=palette[2], linewidth=0.15)\n",
    "ax1.set_title('Original set')\n",
    "\n",
    "\n",
    "ax2.scatter(X_res_vis[y_resampled == 0, 0], X_res_vis[y_resampled == 0, 1],\n",
    "            label=\"Class #0\", alpha=.5, edgecolor=almost_black,\n",
    "            facecolor=palette[0], linewidth=0.15)\n",
    "ax2.scatter(X_res_vis[y_resampled == 1, 0], X_res_vis[y_resampled == 1, 1],\n",
    "            label=\"Class #1\", alpha=.5, edgecolor=almost_black,\n",
    "            facecolor=palette[2], linewidth=0.15)\n",
    "ax2.set_title('SMOTE + ENN')\n",
    "\n",
    "plt.show()"
   ]
  },
  {
   "cell_type": "code",
   "execution_count": null,
   "metadata": {
    "collapsed": true
   },
   "outputs": [],
   "source": []
  },
  {
   "cell_type": "markdown",
   "metadata": {},
   "source": [
    "Pos. = 353\tVariable = n1842\tVariable label = 12D Epilepsy identification\n",
    "This variable is  numeric, the SPSS measurement level is ORDINAL\n",
    "SPSS user missing values = -1.0 thru -2.0\n",
    "\tValue label information for n1842\n",
    "\tValue = 1.0\tLabel = No convulsiv dis\n",
    "\tValue = 2.0\tLabel = Indef convls dis\n",
    "\tValue = 3.0\tLabel = Faints\n",
    "\tValue = 4.0\tLabel = Hysterical attck\n",
    "\tValue = 5.0\tLabel = Epilepsy\n",
    "\tValue = 6.0\tLabel = Unsubstan epilep\n",
    "\tValue = 7.0\tLabel = Febr convs-prob\n",
    "\tValue = 8.0\tLabel = Febr convs -pos\n",
    "\tValue = 9.0\tLabel = Not diag epilep\n",
    "\tValue = 10.0\tLabel = Febrile convuls\n",
    "\tValue = 11.0\tLabel = Breath-holding\n",
    "\tValue = 12.0\tLabel = Blank-spells\n",
    "\tValue = -1.0\tLabel = Nt epilepsy stdy\n",
    "\tValue = -2.0\tLabel = No NCDS1,NCDS2"
   ]
  },
  {
   "cell_type": "code",
   "execution_count": null,
   "metadata": {
    "collapsed": false
   },
   "outputs": [],
   "source": [
    "Counter(data_main[\"Epilepsy_identification\"])"
   ]
  },
  {
   "cell_type": "code",
   "execution_count": null,
   "metadata": {
    "collapsed": true
   },
   "outputs": [],
   "source": []
  }
 ],
 "metadata": {
  "kernelspec": {
   "display_name": "Python 2",
   "language": "python",
   "name": "python2"
  },
  "language_info": {
   "codemirror_mode": {
    "name": "ipython",
    "version": 2
   },
   "file_extension": ".py",
   "mimetype": "text/x-python",
   "name": "python",
   "nbconvert_exporter": "python",
   "pygments_lexer": "ipython2",
   "version": "2.7.10"
  }
 },
 "nbformat": 4,
 "nbformat_minor": 0
}
