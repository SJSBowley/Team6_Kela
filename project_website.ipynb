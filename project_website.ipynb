{
 "cells": [
  {
   "cell_type": "markdown",
   "metadata": {},
   "source": [
    "# CS109A : Predicting Seizures and Epilepsy\n",
    "\n",
    "**Harvard University**<br>\n",
    "**Fall 2016**<br>\n",
    "**Instructors: W. Pan, P. Protopapas, K. Rader**<br>\n",
    "**Date: ** Wednesday, December 14th, 2016.<br>\n",
    "** By **<br>\n",
    "Gerard Nignon<br>\n",
    "Mohammed Khamis Amro<br>\n",
    "Steve Bowley<br> \n",
    "Christopher Martinez Servin "
   ]
  },
  {
   "cell_type": "code",
   "execution_count": null,
   "metadata": {
    "collapsed": false
   },
   "outputs": [],
   "source": [
    "import numpy                    as np\n",
    "import pandas                   as pd\n",
    "import scipy                    as sp\n",
    "import scipy.stats              as stats\n",
    "import seaborn                  as sns\n",
    "import statsmodels.api          as sm\n",
    "import random\n",
    "import warnings\n",
    "import matplotlib\n",
    "import matplotlib.pyplot        as plt\n",
    "%matplotlib inline\n",
    "matplotlib.style.use('ggplot')\n",
    "\n",
    "from sklearn                       import linear_model\n",
    "from sklearn                       import discriminant_analysis\n",
    "from sklearn                       import preprocessing\n",
    "from sklearn.decomposition         import PCA\n",
    "from sklearn                       import cross_validation\n",
    "from sklearn.linear_model          import LogisticRegression\n",
    "from sklearn                       import metrics\n",
    "from sklearn.metrics               import confusion_matrix\n",
    "from sklearn.metrics               import roc_curve\n",
    "from sklearn.metrics               import classification_report\n",
    "from sklearn.metrics               import accuracy_score\n",
    "from sklearn.grid_search           import GridSearchCV\n",
    "from sklearn.cross_validation      import train_test_split\n",
    "from sklearn.discriminant_analysis import LinearDiscriminantAnalysis\n",
    "from sklearn.ensemble              import ExtraTreesClassifier\n",
    "from sklearn.datasets              import make_classification\n",
    "from sklearn.decomposition         import PCA\n",
    "from sklearn.feature_extraction    import DictVectorizer\n",
    "from scipy.stats                   import mode\n",
    "from collections                   import Counter\n",
    "from matplotlib                    import rcParams\n",
    "#from imblearn.over_sampling     import ADASYN\n",
    "#from imblearn.combine           import SMOTEENN\n",
    "#from imblearn.over_sampling     import RandomOverSampler\n",
    "import warnings\n",
    "warnings.filterwarnings('ignore')\n",
    "rcParams['figure.figsize'] = (20, 10)\n",
    "rcParams['axes.facecolor'] = \"w\"\n",
    "rcParams['grid.color'] = \"gray\"\n",
    "rcParams['grid.linewidth'] = 0.5\n",
    "sns.set(style=\"whitegrid\", color_codes=True)\n",
    "#print(__doc__)\n",
    "sns.set()"
   ]
  },
  {
   "cell_type": "markdown",
   "metadata": {},
   "source": [
    "# <span style=\"color:#08088A\"> Stage 1: Ask A Question  </span>"
   ]
  },
  {
   "cell_type": "markdown",
   "metadata": {},
   "source": [
    "*** Our project started off with a simple question: given that a person has a seizure, can we predict if that same person will have epilepsy? ***"
   ]
  },
  {
   "cell_type": "markdown",
   "metadata": {},
   "source": [
    "This notebook will outline the data science process our team followed to try answering the above question. We will present our initial findings about epilepsy and seizure, we will describe the process of obtaining, exploring and cleaning the data, and we will present our possible prediction solution with its advantages and disadvantages.\n",
    "Besides answering the above question, our model will address the main factors that cause a seizure and the key factors that evolve seizure into epilepsy. "
   ]
  },
  {
   "cell_type": "markdown",
   "metadata": {},
   "source": [
    "***1.1 PROJECT OVERVIEW***"
   ]
  },
  {
   "cell_type": "markdown",
   "metadata": {},
   "source": [
    "65 Million people around the world live with Epilepsy, a chronic brain disorder characterized by recurrent, unprovoked seizures or convulsions. It is known as a spectrum condition due to the wide range of seizure types, and can affect people of all ages with varying degrees of severity. Root causes may be related to brain injury or hereditary factors, but in as many as 6 in 10 cases, the underlying cause is unknown (source: Epilepsy Foundation - http://www.epilepsy.com)."
   ]
  },
  {
   "cell_type": "markdown",
   "metadata": {},
   "source": [
    "** What are the factors that may indicate epilepsy rather than other causes of seizures? **"
   ]
  },
  {
   "cell_type": "markdown",
   "metadata": {},
   "source": [
    "Accurate and early diagnosis of an epileptic condition is essential in providing appropriate and timely care to those affected.  Traditional diagnostic tests include neurological examinations, blood tests and brain wave monitoring."
   ]
  },
  {
   "cell_type": "markdown",
   "metadata": {},
   "source": [
    "** How well can epilepsy be predicted using non-traditional  methods? **"
   ]
  },
  {
   "cell_type": "markdown",
   "metadata": {},
   "source": [
    "While these tests are easily administered and interpreted, there are many other personal and social factors that may be related to the causes of seizures which are less apparent. A greater understanding of these factors, and the relationship they have with sufferers of the disease, would enable better predictions to be made regarding the likelihood that someone has the disease, given they have experienced a seizure."
   ]
  },
  {
   "cell_type": "markdown",
   "metadata": {},
   "source": [
    "This project sets out to investigate these relationships by modelling the probability that, ** given someone has experienced a seizure or convulsive event, they continue to suffer from recurring seizures and may be diagnosed as having epilepsy.**"
   ]
  },
  {
   "cell_type": "markdown",
   "metadata": {},
   "source": [
    "** Given that someone has experienced a convulsion or seizure, are they likely to have epilepsy? **"
   ]
  },
  {
   "cell_type": "markdown",
   "metadata": {},
   "source": [
    "By analysing ** social, demographic and medical** data in epileptic patients compared to patients who have experienced a seizure type event, but have subsequently **not** been diagnosed with an epileptic condition, this project aims to develop a predictive model of epilepsy in patients after first seizure."
   ]
  },
  {
   "cell_type": "markdown",
   "metadata": {},
   "source": [
    "The results are intended to support early diagnosis of epilepsy, provide insight into common characteristics of epileptic patients, and help identify potential underlying causes of the condition."
   ]
  },
  {
   "cell_type": "markdown",
   "metadata": {},
   "source": [
    "# <span style=\"color:#08088A\"> Stage 2: Get the Data  </span>"
   ]
  },
  {
   "cell_type": "markdown",
   "metadata": {},
   "source": [
    "\n",
    "\n",
    "### <span style=\"color:#F78181\"> 2.1 NCDS  </span>\n",
    "\n",
    "\n",
    "\n",
    "The **National Child Development Study ** (NCDS) is a continuing study which follows the lives of 18,558 people born in England, Scotland and Wales during the first week of March, 1958. The results from this study helped reduce infant mortality and were instrumental in improving maternity services in the UK.\n",
    "\n",
    "The study collects information on physical and educational development, economic circumstances, employment, family life, health behavior, well-being, social participation and attitudes. \n",
    "\n",
    "### <span style=\"color:#F78181\"> 2.2 The Surveys - NCDS Data Collection </span>\n",
    "\n",
    "Since the birth survey in 1958, there have been nine further ‘sweeps’ of all cohort members at ages 7, 11, 16, 23, 33, 42, 46, 50 and 55. The patient data was collected by using self-reported medical questionnaires, as well as professional medical  questionnaires. \n",
    "\n",
    "\n",
    "### <span style=\"color:#F78181\"> 2.3 NCDS Datasets </span>\n",
    "\n",
    "\n",
    "\n",
    "- We used the Data collected from the cohort group at birth, 7, 11 and 16 years (Childhood data PMS & NCDS 1-3) which is contained in a Stata data file (.dta) called “**ncds0123.dta**”. \n",
    "\n",
    "\n",
    "- The primary key field is “**ncdsid**” and contains 18558 unique records (cases). \n",
    "\n",
    "\n",
    "- The UK Data Archive Data Dictionary (**ncds0123_ukda_data_dictionary.rtf**) provides an index to the variables and their value labels which cover  information on parents social class, housing, occupation, region, relationships, health, hobbies, education, observations about their children among other related topics.\n",
    "\n",
    "\n",
    "- Information on childhood illness within the cohort group is contained in the “**ncds_archived_data_cfs_and_ibs_outcomes.dta**”. This dataset examines childhood illnesses that place them at risk of Chronic Fatigue Syndrome (CFS) / Mylagic Encephalitis (ME) and Irritable Bowel Syndrome (IBS). It contains information on prevalence of epilepsy at 7, 11 and 16 years.\n",
    "\n",
    "\n",
    "- These two datasets can be joined using the primary key “ncdsid”.\n",
    "\n",
    "\n",
    "**Note** : The data for all NCDS sweeps is available from the UK Data Service\n",
    "\n"
   ]
  },
  {
   "cell_type": "markdown",
   "metadata": {},
   "source": [
    "### <span style=\"color:#F78181\"> 2.4 Load the NCDS datasets </span>"
   ]
  },
  {
   "cell_type": "code",
   "execution_count": 225,
   "metadata": {
    "collapsed": false
   },
   "outputs": [
    {
     "name": "stdout",
     "output_type": "stream",
     "text": [
      "Shape of ncds_archived dataset :  (18558, 198)\n",
      "Shape of ncds0123 dataset      :  (18558, 1765)\n"
     ]
    }
   ],
   "source": [
    "#---- Read ncds_archived_data_cfs_and_ibs_outcomes data set  -------------------------#\n",
    "data_health_condition = pd.read_stata('ncds_archived_data_cfs_and_ibs_outcomes.dta')\n",
    "\n",
    "#---- Read ncds0123.dta data set  ----------------------------------------------------#\n",
    "data_main = pd.read_stata('ncds0123.dta',convert_categoricals=False)\n",
    "\n",
    "#---- Display the Shape of ncds0123 data set  ----------------------------------------#\n",
    "print  'Shape of ncds_archived dataset : ' , data_health_condition.shape\n",
    "\n",
    "#---- Display the Shape of ncds0123 data set  ----------------------------------------#\n",
    "print  'Shape of ncds0123 dataset      : ' , data_main.shape"
   ]
  },
  {
   "cell_type": "code",
   "execution_count": 226,
   "metadata": {
    "collapsed": false
   },
   "outputs": [
    {
     "data": {
      "text/html": [
       "<div>\n",
       "<table border=\"1\" class=\"dataframe\">\n",
       "  <thead>\n",
       "    <tr style=\"text-align: right;\">\n",
       "      <th></th>\n",
       "      <th>ncdsid</th>\n",
       "      <th>me</th>\n",
       "      <th>ibsoriginal</th>\n",
       "      <th>mal01backache</th>\n",
       "      <th>mal02tired</th>\n",
       "      <th>mal04headaches</th>\n",
       "      <th>mal06sleepingdifficulties</th>\n",
       "      <th>mal23rheumatism</th>\n",
       "      <th>ghqconcentration</th>\n",
       "      <th>cflikesymptoms</th>\n",
       "      <th>...</th>\n",
       "      <th>infecillness16y</th>\n",
       "      <th>childactive7</th>\n",
       "      <th>sport11</th>\n",
       "      <th>outdoorsport16</th>\n",
       "      <th>indoorsport16</th>\n",
       "      <th>sport23</th>\n",
       "      <th>exercisejob33</th>\n",
       "      <th>sport33</th>\n",
       "      <th>physicaljob42</th>\n",
       "      <th>sport42</th>\n",
       "    </tr>\n",
       "  </thead>\n",
       "  <tbody>\n",
       "    <tr>\n",
       "      <th>0</th>\n",
       "      <td>N10001N</td>\n",
       "      <td>no</td>\n",
       "      <td>no</td>\n",
       "      <td>no</td>\n",
       "      <td>yes</td>\n",
       "      <td>yes</td>\n",
       "      <td>no</td>\n",
       "      <td>no</td>\n",
       "      <td>no</td>\n",
       "      <td>1.0</td>\n",
       "      <td>...</td>\n",
       "      <td>0.0</td>\n",
       "      <td>normally active</td>\n",
       "      <td>most days</td>\n",
       "      <td>often</td>\n",
       "      <td>sometimes</td>\n",
       "      <td>no sport last 4 wks</td>\n",
       "      <td>no exercise</td>\n",
       "      <td>2-3 days a week</td>\n",
       "      <td>moderate amount</td>\n",
       "      <td>4-5 days a week</td>\n",
       "    </tr>\n",
       "    <tr>\n",
       "      <th>1</th>\n",
       "      <td>N10002P</td>\n",
       "      <td>no</td>\n",
       "      <td>no</td>\n",
       "      <td>no</td>\n",
       "      <td>no</td>\n",
       "      <td>no</td>\n",
       "      <td>no</td>\n",
       "      <td>no</td>\n",
       "      <td>no</td>\n",
       "      <td>0.0</td>\n",
       "      <td>...</td>\n",
       "      <td>0.0</td>\n",
       "      <td>normally active</td>\n",
       "      <td>hardly ever</td>\n",
       "      <td>hardly ever/no chance</td>\n",
       "      <td>hardly ever/no chance</td>\n",
       "      <td>no sport last 4 wks</td>\n",
       "      <td>no exercise</td>\n",
       "      <td>once a week</td>\n",
       "      <td>moderate amount</td>\n",
       "      <td>every day</td>\n",
       "    </tr>\n",
       "    <tr>\n",
       "      <th>2</th>\n",
       "      <td>N10003Q</td>\n",
       "      <td>NaN</td>\n",
       "      <td>NaN</td>\n",
       "      <td>NaN</td>\n",
       "      <td>NaN</td>\n",
       "      <td>NaN</td>\n",
       "      <td>NaN</td>\n",
       "      <td>NaN</td>\n",
       "      <td>NaN</td>\n",
       "      <td>NaN</td>\n",
       "      <td>...</td>\n",
       "      <td>0.0</td>\n",
       "      <td>normally active</td>\n",
       "      <td>hardly ever</td>\n",
       "      <td>hardly ever/no chance</td>\n",
       "      <td>hardly ever/no chance</td>\n",
       "      <td>NaN</td>\n",
       "      <td>NaN</td>\n",
       "      <td>NaN</td>\n",
       "      <td>NaN</td>\n",
       "      <td>NaN</td>\n",
       "    </tr>\n",
       "    <tr>\n",
       "      <th>3</th>\n",
       "      <td>N10004R</td>\n",
       "      <td>no</td>\n",
       "      <td>no</td>\n",
       "      <td>no</td>\n",
       "      <td>no</td>\n",
       "      <td>no</td>\n",
       "      <td>no</td>\n",
       "      <td>no</td>\n",
       "      <td>no</td>\n",
       "      <td>0.0</td>\n",
       "      <td>...</td>\n",
       "      <td>0.0</td>\n",
       "      <td>normally active</td>\n",
       "      <td>most days</td>\n",
       "      <td>often</td>\n",
       "      <td>sometimes</td>\n",
       "      <td>no sport last 4 wks</td>\n",
       "      <td>NaN</td>\n",
       "      <td>once a week</td>\n",
       "      <td>moderate amount</td>\n",
       "      <td>every day</td>\n",
       "    </tr>\n",
       "    <tr>\n",
       "      <th>4</th>\n",
       "      <td>N10005S</td>\n",
       "      <td>NaN</td>\n",
       "      <td>NaN</td>\n",
       "      <td>NaN</td>\n",
       "      <td>NaN</td>\n",
       "      <td>NaN</td>\n",
       "      <td>NaN</td>\n",
       "      <td>NaN</td>\n",
       "      <td>NaN</td>\n",
       "      <td>NaN</td>\n",
       "      <td>...</td>\n",
       "      <td>0.0</td>\n",
       "      <td>over active</td>\n",
       "      <td>sometimes</td>\n",
       "      <td>NaN</td>\n",
       "      <td>NaN</td>\n",
       "      <td>NaN</td>\n",
       "      <td>NaN</td>\n",
       "      <td>NaN</td>\n",
       "      <td>NaN</td>\n",
       "      <td>NaN</td>\n",
       "    </tr>\n",
       "  </tbody>\n",
       "</table>\n",
       "<p>5 rows × 198 columns</p>\n",
       "</div>"
      ],
      "text/plain": [
       "    ncdsid   me ibsoriginal mal01backache mal02tired mal04headaches  \\\n",
       "0  N10001N   no          no            no        yes            yes   \n",
       "1  N10002P   no          no            no         no             no   \n",
       "2  N10003Q  NaN         NaN           NaN        NaN            NaN   \n",
       "3  N10004R   no          no            no         no             no   \n",
       "4  N10005S  NaN         NaN           NaN        NaN            NaN   \n",
       "\n",
       "  mal06sleepingdifficulties mal23rheumatism ghqconcentration  cflikesymptoms  \\\n",
       "0                        no              no               no             1.0   \n",
       "1                        no              no               no             0.0   \n",
       "2                       NaN             NaN              NaN             NaN   \n",
       "3                        no              no               no             0.0   \n",
       "4                       NaN             NaN              NaN             NaN   \n",
       "\n",
       "        ...        infecillness16y     childactive7      sport11  \\\n",
       "0       ...                    0.0  normally active    most days   \n",
       "1       ...                    0.0  normally active  hardly ever   \n",
       "2       ...                    0.0  normally active  hardly ever   \n",
       "3       ...                    0.0  normally active    most days   \n",
       "4       ...                    0.0      over active    sometimes   \n",
       "\n",
       "          outdoorsport16          indoorsport16              sport23  \\\n",
       "0                  often              sometimes  no sport last 4 wks   \n",
       "1  hardly ever/no chance  hardly ever/no chance  no sport last 4 wks   \n",
       "2  hardly ever/no chance  hardly ever/no chance                  NaN   \n",
       "3                  often              sometimes  no sport last 4 wks   \n",
       "4                    NaN                    NaN                  NaN   \n",
       "\n",
       "  exercisejob33          sport33    physicaljob42          sport42  \n",
       "0   no exercise  2-3 days a week  moderate amount  4-5 days a week  \n",
       "1   no exercise      once a week  moderate amount        every day  \n",
       "2           NaN              NaN              NaN              NaN  \n",
       "3           NaN      once a week  moderate amount        every day  \n",
       "4           NaN              NaN              NaN              NaN  \n",
       "\n",
       "[5 rows x 198 columns]"
      ]
     },
     "execution_count": 226,
     "metadata": {},
     "output_type": "execute_result"
    }
   ],
   "source": [
    "#---- Display the header of data_health_condition data frame  ------------------------#\n",
    "data_health_condition.head()"
   ]
  },
  {
   "cell_type": "code",
   "execution_count": 227,
   "metadata": {
    "collapsed": false
   },
   "outputs": [
    {
     "data": {
      "text/html": [
       "<div>\n",
       "<table border=\"1\" class=\"dataframe\">\n",
       "  <thead>\n",
       "    <tr style=\"text-align: right;\">\n",
       "      <th></th>\n",
       "      <th>ncdsid</th>\n",
       "      <th>n622</th>\n",
       "      <th>n0region</th>\n",
       "      <th>n1region</th>\n",
       "      <th>n2region</th>\n",
       "      <th>n3region</th>\n",
       "      <th>n553</th>\n",
       "      <th>n545</th>\n",
       "      <th>n520</th>\n",
       "      <th>n490</th>\n",
       "      <th>...</th>\n",
       "      <th>n1849</th>\n",
       "      <th>dvht07</th>\n",
       "      <th>dvht11</th>\n",
       "      <th>dvht16</th>\n",
       "      <th>dvrwt07</th>\n",
       "      <th>dvrwt11</th>\n",
       "      <th>dvrwt16</th>\n",
       "      <th>dvwt07</th>\n",
       "      <th>dvwt11</th>\n",
       "      <th>dvwt16</th>\n",
       "    </tr>\n",
       "  </thead>\n",
       "  <tbody>\n",
       "    <tr>\n",
       "      <th>0</th>\n",
       "      <td>N10001N</td>\n",
       "      <td>2.0</td>\n",
       "      <td>9.0</td>\n",
       "      <td>9.0</td>\n",
       "      <td>9.0</td>\n",
       "      <td>9.0</td>\n",
       "      <td>23.0</td>\n",
       "      <td>4.0</td>\n",
       "      <td>2.0</td>\n",
       "      <td>12.0</td>\n",
       "      <td>...</td>\n",
       "      <td>-1.0</td>\n",
       "      <td>1.219000</td>\n",
       "      <td>1.473</td>\n",
       "      <td>1.599999</td>\n",
       "      <td>110.347992</td>\n",
       "      <td>98.192993</td>\n",
       "      <td>105.056000</td>\n",
       "      <td>25.854996</td>\n",
       "      <td>37.648987</td>\n",
       "      <td>56.019989</td>\n",
       "    </tr>\n",
       "    <tr>\n",
       "      <th>1</th>\n",
       "      <td>N10002P</td>\n",
       "      <td>1.0</td>\n",
       "      <td>9.0</td>\n",
       "      <td>8.0</td>\n",
       "      <td>8.0</td>\n",
       "      <td>8.0</td>\n",
       "      <td>34.0</td>\n",
       "      <td>4.0</td>\n",
       "      <td>5.0</td>\n",
       "      <td>1.0</td>\n",
       "      <td>...</td>\n",
       "      <td>-1.0</td>\n",
       "      <td>1.346000</td>\n",
       "      <td>-1.000</td>\n",
       "      <td>-1.000000</td>\n",
       "      <td>90.865997</td>\n",
       "      <td>-1.000000</td>\n",
       "      <td>-1.000000</td>\n",
       "      <td>26.308990</td>\n",
       "      <td>-1.000000</td>\n",
       "      <td>-1.000000</td>\n",
       "    </tr>\n",
       "    <tr>\n",
       "      <th>2</th>\n",
       "      <td>N10003Q</td>\n",
       "      <td>1.0</td>\n",
       "      <td>4.0</td>\n",
       "      <td>4.0</td>\n",
       "      <td>4.0</td>\n",
       "      <td>4.0</td>\n",
       "      <td>34.0</td>\n",
       "      <td>4.0</td>\n",
       "      <td>10.0</td>\n",
       "      <td>1.0</td>\n",
       "      <td>...</td>\n",
       "      <td>-1.0</td>\n",
       "      <td>1.320999</td>\n",
       "      <td>1.499</td>\n",
       "      <td>1.879999</td>\n",
       "      <td>87.959991</td>\n",
       "      <td>96.404999</td>\n",
       "      <td>89.382996</td>\n",
       "      <td>24.493988</td>\n",
       "      <td>38.101990</td>\n",
       "      <td>66.679993</td>\n",
       "    </tr>\n",
       "    <tr>\n",
       "      <th>3</th>\n",
       "      <td>N10004R</td>\n",
       "      <td>2.0</td>\n",
       "      <td>1.0</td>\n",
       "      <td>1.0</td>\n",
       "      <td>1.0</td>\n",
       "      <td>1.0</td>\n",
       "      <td>26.0</td>\n",
       "      <td>4.0</td>\n",
       "      <td>11.0</td>\n",
       "      <td>1.0</td>\n",
       "      <td>...</td>\n",
       "      <td>-1.0</td>\n",
       "      <td>1.294999</td>\n",
       "      <td>1.511</td>\n",
       "      <td>1.629999</td>\n",
       "      <td>105.161987</td>\n",
       "      <td>111.588989</td>\n",
       "      <td>132.054993</td>\n",
       "      <td>28.122986</td>\n",
       "      <td>45.813995</td>\n",
       "      <td>72.799988</td>\n",
       "    </tr>\n",
       "    <tr>\n",
       "      <th>4</th>\n",
       "      <td>N10005S</td>\n",
       "      <td>2.0</td>\n",
       "      <td>10.0</td>\n",
       "      <td>10.0</td>\n",
       "      <td>10.0</td>\n",
       "      <td>10.0</td>\n",
       "      <td>25.0</td>\n",
       "      <td>4.0</td>\n",
       "      <td>1.0</td>\n",
       "      <td>3.0</td>\n",
       "      <td>...</td>\n",
       "      <td>-1.0</td>\n",
       "      <td>1.346000</td>\n",
       "      <td>-1.000</td>\n",
       "      <td>-1.000000</td>\n",
       "      <td>129.382996</td>\n",
       "      <td>-1.000000</td>\n",
       "      <td>-1.000000</td>\n",
       "      <td>37.648987</td>\n",
       "      <td>-1.000000</td>\n",
       "      <td>-1.000000</td>\n",
       "    </tr>\n",
       "  </tbody>\n",
       "</table>\n",
       "<p>5 rows × 1765 columns</p>\n",
       "</div>"
      ],
      "text/plain": [
       "    ncdsid  n622  n0region  n1region  n2region  n3region  n553  n545  n520  \\\n",
       "0  N10001N   2.0       9.0       9.0       9.0       9.0  23.0   4.0   2.0   \n",
       "1  N10002P   1.0       9.0       8.0       8.0       8.0  34.0   4.0   5.0   \n",
       "2  N10003Q   1.0       4.0       4.0       4.0       4.0  34.0   4.0  10.0   \n",
       "3  N10004R   2.0       1.0       1.0       1.0       1.0  26.0   4.0  11.0   \n",
       "4  N10005S   2.0      10.0      10.0      10.0      10.0  25.0   4.0   1.0   \n",
       "\n",
       "   n490    ...      n1849    dvht07  dvht11    dvht16     dvrwt07     dvrwt11  \\\n",
       "0  12.0    ...       -1.0  1.219000   1.473  1.599999  110.347992   98.192993   \n",
       "1   1.0    ...       -1.0  1.346000  -1.000 -1.000000   90.865997   -1.000000   \n",
       "2   1.0    ...       -1.0  1.320999   1.499  1.879999   87.959991   96.404999   \n",
       "3   1.0    ...       -1.0  1.294999   1.511  1.629999  105.161987  111.588989   \n",
       "4   3.0    ...       -1.0  1.346000  -1.000 -1.000000  129.382996   -1.000000   \n",
       "\n",
       "      dvrwt16     dvwt07     dvwt11     dvwt16  \n",
       "0  105.056000  25.854996  37.648987  56.019989  \n",
       "1   -1.000000  26.308990  -1.000000  -1.000000  \n",
       "2   89.382996  24.493988  38.101990  66.679993  \n",
       "3  132.054993  28.122986  45.813995  72.799988  \n",
       "4   -1.000000  37.648987  -1.000000  -1.000000  \n",
       "\n",
       "[5 rows x 1765 columns]"
      ]
     },
     "execution_count": 227,
     "metadata": {},
     "output_type": "execute_result"
    }
   ],
   "source": [
    "#---- Display the header of ncds0123 dataset  -------------------------------------#\n",
    "data_main.head()"
   ]
  },
  {
   "cell_type": "markdown",
   "metadata": {},
   "source": [
    "**  joined both dataset using the primary key “ncdsid”. **"
   ]
  },
  {
   "cell_type": "code",
   "execution_count": 228,
   "metadata": {
    "collapsed": false
   },
   "outputs": [
    {
     "name": "stdout",
     "output_type": "stream",
     "text": [
      "(18558, 1962)\n"
     ]
    },
    {
     "data": {
      "text/html": [
       "<div>\n",
       "<table border=\"1\" class=\"dataframe\">\n",
       "  <thead>\n",
       "    <tr style=\"text-align: right;\">\n",
       "      <th></th>\n",
       "      <th>ncdsid</th>\n",
       "      <th>n622</th>\n",
       "      <th>n0region</th>\n",
       "      <th>n1region</th>\n",
       "      <th>n2region</th>\n",
       "      <th>n3region</th>\n",
       "      <th>n553</th>\n",
       "      <th>n545</th>\n",
       "      <th>n520</th>\n",
       "      <th>n490</th>\n",
       "      <th>...</th>\n",
       "      <th>infecillness16y</th>\n",
       "      <th>childactive7</th>\n",
       "      <th>sport11</th>\n",
       "      <th>outdoorsport16</th>\n",
       "      <th>indoorsport16</th>\n",
       "      <th>sport23</th>\n",
       "      <th>exercisejob33</th>\n",
       "      <th>sport33</th>\n",
       "      <th>physicaljob42</th>\n",
       "      <th>sport42</th>\n",
       "    </tr>\n",
       "  </thead>\n",
       "  <tbody>\n",
       "    <tr>\n",
       "      <th>0</th>\n",
       "      <td>N10001N</td>\n",
       "      <td>2.0</td>\n",
       "      <td>9.0</td>\n",
       "      <td>9.0</td>\n",
       "      <td>9.0</td>\n",
       "      <td>9.0</td>\n",
       "      <td>23.0</td>\n",
       "      <td>4.0</td>\n",
       "      <td>2.0</td>\n",
       "      <td>12.0</td>\n",
       "      <td>...</td>\n",
       "      <td>0.0</td>\n",
       "      <td>normally active</td>\n",
       "      <td>most days</td>\n",
       "      <td>often</td>\n",
       "      <td>sometimes</td>\n",
       "      <td>no sport last 4 wks</td>\n",
       "      <td>no exercise</td>\n",
       "      <td>2-3 days a week</td>\n",
       "      <td>moderate amount</td>\n",
       "      <td>4-5 days a week</td>\n",
       "    </tr>\n",
       "    <tr>\n",
       "      <th>1</th>\n",
       "      <td>N10002P</td>\n",
       "      <td>1.0</td>\n",
       "      <td>9.0</td>\n",
       "      <td>8.0</td>\n",
       "      <td>8.0</td>\n",
       "      <td>8.0</td>\n",
       "      <td>34.0</td>\n",
       "      <td>4.0</td>\n",
       "      <td>5.0</td>\n",
       "      <td>1.0</td>\n",
       "      <td>...</td>\n",
       "      <td>0.0</td>\n",
       "      <td>normally active</td>\n",
       "      <td>hardly ever</td>\n",
       "      <td>hardly ever/no chance</td>\n",
       "      <td>hardly ever/no chance</td>\n",
       "      <td>no sport last 4 wks</td>\n",
       "      <td>no exercise</td>\n",
       "      <td>once a week</td>\n",
       "      <td>moderate amount</td>\n",
       "      <td>every day</td>\n",
       "    </tr>\n",
       "    <tr>\n",
       "      <th>2</th>\n",
       "      <td>N10003Q</td>\n",
       "      <td>1.0</td>\n",
       "      <td>4.0</td>\n",
       "      <td>4.0</td>\n",
       "      <td>4.0</td>\n",
       "      <td>4.0</td>\n",
       "      <td>34.0</td>\n",
       "      <td>4.0</td>\n",
       "      <td>10.0</td>\n",
       "      <td>1.0</td>\n",
       "      <td>...</td>\n",
       "      <td>0.0</td>\n",
       "      <td>normally active</td>\n",
       "      <td>hardly ever</td>\n",
       "      <td>hardly ever/no chance</td>\n",
       "      <td>hardly ever/no chance</td>\n",
       "      <td>NaN</td>\n",
       "      <td>NaN</td>\n",
       "      <td>NaN</td>\n",
       "      <td>NaN</td>\n",
       "      <td>NaN</td>\n",
       "    </tr>\n",
       "    <tr>\n",
       "      <th>3</th>\n",
       "      <td>N10004R</td>\n",
       "      <td>2.0</td>\n",
       "      <td>1.0</td>\n",
       "      <td>1.0</td>\n",
       "      <td>1.0</td>\n",
       "      <td>1.0</td>\n",
       "      <td>26.0</td>\n",
       "      <td>4.0</td>\n",
       "      <td>11.0</td>\n",
       "      <td>1.0</td>\n",
       "      <td>...</td>\n",
       "      <td>0.0</td>\n",
       "      <td>normally active</td>\n",
       "      <td>most days</td>\n",
       "      <td>often</td>\n",
       "      <td>sometimes</td>\n",
       "      <td>no sport last 4 wks</td>\n",
       "      <td>NaN</td>\n",
       "      <td>once a week</td>\n",
       "      <td>moderate amount</td>\n",
       "      <td>every day</td>\n",
       "    </tr>\n",
       "    <tr>\n",
       "      <th>4</th>\n",
       "      <td>N10005S</td>\n",
       "      <td>2.0</td>\n",
       "      <td>10.0</td>\n",
       "      <td>10.0</td>\n",
       "      <td>10.0</td>\n",
       "      <td>10.0</td>\n",
       "      <td>25.0</td>\n",
       "      <td>4.0</td>\n",
       "      <td>1.0</td>\n",
       "      <td>3.0</td>\n",
       "      <td>...</td>\n",
       "      <td>0.0</td>\n",
       "      <td>over active</td>\n",
       "      <td>sometimes</td>\n",
       "      <td>NaN</td>\n",
       "      <td>NaN</td>\n",
       "      <td>NaN</td>\n",
       "      <td>NaN</td>\n",
       "      <td>NaN</td>\n",
       "      <td>NaN</td>\n",
       "      <td>NaN</td>\n",
       "    </tr>\n",
       "  </tbody>\n",
       "</table>\n",
       "<p>5 rows × 1962 columns</p>\n",
       "</div>"
      ],
      "text/plain": [
       "    ncdsid  n622  n0region  n1region  n2region  n3region  n553  n545  n520  \\\n",
       "0  N10001N   2.0       9.0       9.0       9.0       9.0  23.0   4.0   2.0   \n",
       "1  N10002P   1.0       9.0       8.0       8.0       8.0  34.0   4.0   5.0   \n",
       "2  N10003Q   1.0       4.0       4.0       4.0       4.0  34.0   4.0  10.0   \n",
       "3  N10004R   2.0       1.0       1.0       1.0       1.0  26.0   4.0  11.0   \n",
       "4  N10005S   2.0      10.0      10.0      10.0      10.0  25.0   4.0   1.0   \n",
       "\n",
       "   n490       ...         infecillness16y     childactive7      sport11  \\\n",
       "0  12.0       ...                     0.0  normally active    most days   \n",
       "1   1.0       ...                     0.0  normally active  hardly ever   \n",
       "2   1.0       ...                     0.0  normally active  hardly ever   \n",
       "3   1.0       ...                     0.0  normally active    most days   \n",
       "4   3.0       ...                     0.0      over active    sometimes   \n",
       "\n",
       "          outdoorsport16          indoorsport16              sport23  \\\n",
       "0                  often              sometimes  no sport last 4 wks   \n",
       "1  hardly ever/no chance  hardly ever/no chance  no sport last 4 wks   \n",
       "2  hardly ever/no chance  hardly ever/no chance                  NaN   \n",
       "3                  often              sometimes  no sport last 4 wks   \n",
       "4                    NaN                    NaN                  NaN   \n",
       "\n",
       "   exercisejob33          sport33    physicaljob42          sport42  \n",
       "0    no exercise  2-3 days a week  moderate amount  4-5 days a week  \n",
       "1    no exercise      once a week  moderate amount        every day  \n",
       "2            NaN              NaN              NaN              NaN  \n",
       "3            NaN      once a week  moderate amount        every day  \n",
       "4            NaN              NaN              NaN              NaN  \n",
       "\n",
       "[5 rows x 1962 columns]"
      ]
     },
     "execution_count": 228,
     "metadata": {},
     "output_type": "execute_result"
    }
   ],
   "source": [
    "#---- joined both dataset using the primary key “ncdsid”--------------------------#\n",
    "extended_df = pd.merge(data_main, data_health_condition, on='ncdsid', how='outer')\n",
    "#---- Display the sahpe of extended df  ------------------------------------------#\n",
    "print (extended_df.shape)\n",
    "#---- Display the header of extended df ------------------------------------------#\n",
    "extended_df.head()"
   ]
  },
  {
   "cell_type": "markdown",
   "metadata": {},
   "source": [
    "# <span style=\"color:#08088A\"> Stage 3: Build Model Dataset  </span>\n"
   ]
  },
  {
   "cell_type": "markdown",
   "metadata": {},
   "source": [
    "As a First step, We need to build our dataset as following:\n",
    "\n",
    "- Identify **y_seizure** response variable which indicate if the child face a seizure attack in the past with possible two values:<br>\n",
    "\n",
    "    - y_seizure   =   0      if Child didn't face any seizure attack          \n",
    "    - y_seizure   =   1      if Child had faced at least one epilepsy attack \n",
    "     \n",
    "- Identify **y_epileptic** variable which indicate if the Seizure evolved to epileptic case or not with three possible values :<br>\n",
    "\n",
    "    - y_epilepsy  =  0       if the child didn't face any seizure or epilepsy attack\n",
    "    - y_epilepsy  =  1       if the child had face seizure attack but didn't evolve to epilepsy          \n",
    "    - y_epilepsy  =  2       if the child had face seizure attack and evolved to epilepsy \n",
    "   \n",
    "   \n",
    "- Identify a set of features to be used in our model after removing all medical test variables related to epilepsy in additional to parents feedback variables indicating epilepsy case so our model can predict the seizure/epilepsy case without making medical check or asking parents for their feedback.\n",
    "\n"
   ]
  },
  {
   "cell_type": "markdown",
   "metadata": {},
   "source": [
    "### <span style=\"color:#F78181\">  3.1 Calculate our First Response Variable  y_seizure  </span>\n"
   ]
  },
  {
   "cell_type": "markdown",
   "metadata": {},
   "source": [
    "- In order to calculate y_seizure value we will calculate the following three variables:\n",
    "    - seizure7\n",
    "    - seizure11\n",
    "    - seizure16.\n",
    "    \n",
    "- Seizure 7 = 1 if the child had a seizure attack from brith upto age of 7 , we calculate this value from any variable either a medical check or parents feedback indicating a seizure attack or eplieptic condition for example ** 0 Illness noted in PMS-MC1:3 ** variable with value = 3.0 indicate a Convulsions(Seizure) noted in PMS .\n",
    "    \n",
    "- Seizure 11 follow the same concept for set of variables for age 11 data collection.\n",
    "   \n",
    "- Seizure 16 follow the same concept for set of variables for age 16 data collection.\n",
    "    \n",
    "- Our Response Variable (**y_seizure**)  = 1 if seizure7 =1 or seizure11 =1 or seizure16 =1\n",
    " "
   ]
  },
  {
   "cell_type": "code",
   "execution_count": 230,
   "metadata": {
    "collapsed": false
   },
   "outputs": [
    {
     "name": "stdout",
     "output_type": "stream",
     "text": [
      "Seizure at age of 7 \n",
      "--------------------- \n",
      "0    17355\n",
      "1     1203\n",
      "Name: seizure7, dtype: int64\n"
     ]
    }
   ],
   "source": [
    "#---- Calculate seizure7 variable ---------------------------------------------------------------------------------------------#\n",
    "epilepsy_response['seizure7']=((\n",
    "                         extended_df.n1831 == 3)    # 0 Illness noted in PMS-MC1:3              Value = 3.0   Label = Convulsions etc.\n",
    "                      | (extended_df.n1832 == 3)    # 0 Illness noted in PMS-MC2:3              Value = 3.0   Label = Convulsions etc.\n",
    "                      | (extended_df.n1833 == 3)    # 0 Illness noted in PMS-MC3:3              Value = 3.0   Label = Convulsions etc.\n",
    "                      | (extended_df.n274  == 2)    # 1P Fit or convulsion in 1st year of life  Value = 2.0    Label = Yes\n",
    "                      | (extended_df.n275  == 2)    # 1P Fit or convulsion after 1st year       Value = 2.0\t   Label = Yes\n",
    "                      | (extended_df.n390 == 10)    # 1M Reason for Special Education MC1:3     Value = 10.0   Label = Epileptic\n",
    "                      | (extended_df.n391 == 10)    # 1M Reason for Special Education MC2:3     Value = 10.0   Label = Epileptic\n",
    "                      | (extended_df.n392 == 10)    # 1M Reason for Special Education MC3:3     Value = 10.0   Label = Epileptic\n",
    "                      | ((extended_df.n1314 >=0) & (extended_df.n1314 <= 7))    # 2P Age at most recent epilepsy attack\n",
    "                      | ((extended_df.n1317 >=0) & (extended_df.n1317 <= 7))     # 2P Age at 1st epilepsy attack\n",
    "                      | (extended_df.n1502 ==2)      # 2M Has child ever had convulsions\n",
    "                      | (extended_df.n1502 ==4)      # 2M Has child ever had convulsions\n",
    "                      | ((extended_df.n2615 >= 1) & (extended_df.n2615 <= 4))   # 3P When convulsions,fits 1st occured\n",
    "                      | ((extended_df.n2616 >= 1) & (extended_df.n2616 <= 4))   #3P Convulsions-most recent occurrence                      \n",
    "                      | (extended_df.n1842 >= 1)   # 12D Epilepsy identification                     \n",
    "\n",
    "                     )*1\n",
    "\n",
    "print 'Seizure at age of 7 \\n--------------------- \\n' ,epilepsy_response.seizure7.value_counts()\n"
   ]
  },
  {
   "cell_type": "code",
   "execution_count": 231,
   "metadata": {
    "collapsed": false
   },
   "outputs": [
    {
     "name": "stdout",
     "output_type": "stream",
     "text": [
      "Seizure at age of 11 \n",
      "--------------------- \n",
      "0    17925\n",
      "1      633\n",
      "Name: seizure11, dtype: int64\n"
     ]
    }
   ],
   "source": [
    "#---- Calculate seizure11 variable -------------------------------------------------------------------------------------------#\n",
    "epilepsy_response['seizure11']=(  (\n",
    "                          extended_df.n1477 == 7)    # 2M Reason for special education - MC1:3    Value = 7.0\tLabel = Epileptic\n",
    "                       | (extended_df.n1478 == 7)    # 2M Reason for special education - MC2:3    Value = 7.0\tLabel = Epileptic\n",
    "                       | (extended_df.n1479 == 7)    # 2M Reason for special education - MC3:3    Value = 7.0\tLabel = Epileptic\n",
    "                       | (extended_df.n1307 == 1)     # 2P Has child had epilepsy attacks-MC 1:3\n",
    "                       | (extended_df.n1307 == 2)     # 2P Has child had epilepsy attacks-MC 1:3\n",
    "                       | (extended_df.n1307 == 3)     # 2P Has child had epilepsy attacks-MC 1:3\n",
    "                       | (extended_df.n1308 == 1)     # 2P Has child had epilepsy attacks-MC 2:3\n",
    "                       | (extended_df.n1308 == 2)     # 2P Has child had epilepsy attacks-MC 2:3\n",
    "                       | (extended_df.n1308 == 3)     # 2P Has child had epilepsy attacks-MC 2:3\n",
    "                       | (extended_df.n1309 == 1)     # 2P Has child had epilepsy attacks-MC 3:3\n",
    "                       | (extended_df.n1309 == 2)     # 2P Has child had epilepsy attacks-MC 3:3\n",
    "                       | (extended_df.n1309 == 3)     # 2P Has child had epilepsy attacks-MC 3:3\n",
    "                       | ((extended_df.n1314 >= 8) & (extended_df.n1314 <= 11))   # 2P Age at most recent epilepsy attack\n",
    "                       | ((extended_df.n1317 >= 8) & (extended_df.n1317 <= 11))   # 2P Age at 1st epilepsy attack\n",
    "                       | (extended_df.n1321 == 8)    # 2P Reason for absence from school-MC 1:5   Value = 8.0\tLabel = Convulsions\n",
    "                       | (extended_df.n1322 == 8)    # 2P Reason for absence from school-MC 2:5   Value = 8.0\tLabel = Convulsions\n",
    "                       | (extended_df.n1323 == 8)    # 2P Reason for absence from school-MC 3:5   Value = 8.0\tLabel = Convulsions\n",
    "                       | (extended_df.n1324 == 8)    # 2P Reason for absence from school-MC 4:5   Value = 8.0\tLabel = Convulsions\n",
    "                       | (extended_df.n1325 == 8)    # 2P Reason for absence from school-MC 5:5   Value = 8.0\tLabel = Convulsions\n",
    "                       | (extended_df.n1337 == 1)    # 2P Reason for prescription  M:C 1-2        Value = 1.0\tLabel = Convulsions etc.\n",
    "                       | (extended_df.n1338 == 8)    # 2P Reason for prescription  M:C 2-2        Value = 1.0\tLabel = Convulsions etc.\n",
    "                       | (extended_df.n1394 == 2)    # 2P Ever seen specialist-convulsions,fits   Value = 2,3,5\n",
    "                       | (extended_df.n1394 == 3)    # 2P Ever seen specialist-convulsions,fits   Value = 2,3,5\n",
    "                       | (extended_df.n1394 == 5)    # 2P Ever seen specialist-convulsions,fits   Value = 2,3,5\n",
    "                       | (extended_df.n1502 == 3)     # 2M Has child ever had convulsions\n",
    "                       | (extended_df.n1502 == 4)     # 2M Has child ever had convulsions\n",
    "                       | (extended_df.n2615 == 5)    # 3P When convulsions,fits 1st occured  Value = 5.0\tLabel = Between 7&11 yrs\n",
    "                       | (extended_df.n2616 == 5)    # 3P Convulsions-most recent occurrence Value = 5.0\tLabel = Between 7&11 yrs                       \n",
    "                     )*1\n",
    "print 'Seizure at age of 11 \\n--------------------- \\n' , epilepsy_response.seizure11.value_counts()\n"
   ]
  },
  {
   "cell_type": "code",
   "execution_count": 232,
   "metadata": {
    "collapsed": false
   },
   "outputs": [
    {
     "name": "stdout",
     "output_type": "stream",
     "text": [
      "Seizure at age of 16 \n",
      "--------------------- \n",
      "0    17922\n",
      "1      636\n",
      "Name: seizure16, dtype: int64\n"
     ]
    }
   ],
   "source": [
    "#---- Calculate seizure16 variable --------------------------------------------------------------------------------#\n",
    "epilepsy_response['seizure16']=(  (extended_df.n1893 == 8)    # 3M Category of child's handicap MC1:3   Value = 8.0\tLabel = Epileptic\n",
    "                       | (extended_df.n1894 == 8)    # 3M Category of child's handicap MC2:3   Value = 8.0\tLabel = Epileptic\n",
    "                       | (extended_df.n1895 == 8)    # 3M Category of child's handicap MC3:3   Value = 8.0\tLabel = Epileptic\n",
    "                       | (extended_df.n2663 == 7)    # 3P Nature of child-s disability-MC 1:5   Value = 7.0\tLabel = Epilepsy\n",
    "                       | (extended_df.n2664 == 7)    # 3P Nature of child-s disability-MC 2:5   Value = 7.0\tLabel = Epilepsy\n",
    "                       | (extended_df.n2665 == 7)    # 3P Nature of child-s disability-MC 3:5   Value = 7.0\tLabel = Epilepsy\n",
    "                       | (extended_df.n2666 == 7)    # 3P Nature of child-s disability-MC 4:5   Value = 7.0\tLabel = Epilepsy\n",
    "                       | (extended_df.n2667 == 7)    # 3P Nature of child-s disability-MC 5:5   Value = 7.0\tLabel = Epilepsy\n",
    "                       | (extended_df.n1904 == 17)     # 3M Reason for hosp admiss last 12 mnths Value = 17.0\tLabel = Epilepsy\n",
    "                       | (extended_df.n1910 == 17)     # 3M Reason hosp outpatient last yr      Value = 17.0\tLabel = Epilepsy\n",
    "                       | (extended_df.n2032 == 3)     # 3M Epilepsy  Value = 3.0\tLabel = Cond,no handcp\n",
    "                       | (extended_df.n2032 == 4)     # 3M Epilepsy  Value = 4.0\tLabel = Slight handicap\n",
    "                       | (extended_df.n2032 == 5)     # 3M Epilepsy  Value = 5.0\tLabel = Moderate handicp\n",
    "                       | (extended_df.n2032 == 6)     # 3M Epilepsy  Value = 6.0\tLabel = Severe handicap\n",
    "                       | (extended_df.n2032 == 7)     # 3M Epilepsy  Value = 7.0\tLabel = Cond,DK degree\n",
    "                       | (extended_df.n2554 == 3)     # 3P Reason for absence from school-MC 1:6   Value = 11.0\tLabel = Convulsions,fits\n",
    "                       | (extended_df.n2555 == 3)     # 3P Reason for absence from school-MC 2:6   Value = 11.0\tLabel = Convulsions,fits\n",
    "                       | (extended_df.n2556 == 3)     # 3P Reason for absence from school-MC 3:6   Value = 11.0\tLabel = Convulsions,fits\n",
    "                       | (extended_df.n2557 == 3)     # 3P Reason for absence from school-MC 4:6   Value = 11.0\tLabel = Convulsions,fits\n",
    "                       | (extended_df.n2558 == 3)     # 3P Reason for absence from school-MC 5:6   Value = 11.0\tLabel = Convulsions,fits\n",
    "                       | (extended_df.n2559 == 3)     # 3P Reason for absence from school-MC 6:6   Value = 11.0\tLabel = Convulsions,fits\n",
    "                       | (extended_df.n2598 == 7)    # 3P Hospital admissions,general-MC 1:4  Value = 7.0\tLabel = Convulsions\n",
    "                       | (extended_df.n2599 == 7)    # 3P Hospital admissions,general-MC 1:4  Value = 7.0\tLabel = Convulsions\n",
    "                       | (extended_df.n2600 == 7)    # 3P Hospital admissions,general-MC 1:4  Value = 7.0\tLabel = Convulsions\n",
    "                       | (extended_df.n2601 == 7)    # 3P Hospital admissions,general-MC 1:4  Value = 7.0\tLabel = Convulsions\n",
    "                       | (extended_df.n2603 == 10)   # 3P Hosp outpatient,diagnosed cond-MC 1:6   Value = 10.0\tLabel = Convulsions\n",
    "                       | (extended_df.n2604 == 10)   # 3P Hosp outpatient,diagnosed cond-MC 2:6   Value = 10.0\tLabel = Convulsions\n",
    "                       | (extended_df.n2605 == 10)   # 3P Hosp outpatient,diagnosed cond-MC 3:6   Value = 10.0\tLabel = Convulsions\n",
    "                       | (extended_df.n2606 == 10)   # 3P Hosp outpatient,diagnosed cond-MC 4:6   Value = 10.0\tLabel = Convulsions\n",
    "                       | (extended_df.n2607 == 10)   # 3P Hosp outpatient,diagnosed cond-MC 5:6   Value = 10.0\tLabel = Convulsions\n",
    "                       | (extended_df.n2608 == 10)   # 3P Hosp outpatient,diagnosed cond-MC 6:6   Value = 10.0\tLabel = Convulsions\n",
    "                       | (extended_df.n2614 == 1)    # 3P Convulsions,fits-unconsciousness   Value = 1.0\tLabel = Yes\n",
    "                       | (extended_df.n2615 == 6)   # 3P When convulsions,fits 1st occured Value = 6.0\tLabel = Since 11th year\n",
    "                       | (extended_df.n2616 == 6)    # 3P Convulsions-most recent occurrence  Value = 6.0\tLabel = 11+, nt past yr\n",
    "                       | (extended_df.n2616 == 7)    # 3P Convulsions-most recent occurrence  Value = 7.0\tLabel = In past year\n",
    "                       | (extended_df.n2616 == 8)    # 3P Convulsions-most recent occurrence  Value = 8.0\tLabel = DK age                \n",
    "                     )*1\n",
    "\n",
    "print 'Seizure at age of 16 \\n--------------------- \\n' , epilepsy_response.seizure16.value_counts()\n"
   ]
  },
  {
   "cell_type": "code",
   "execution_count": 233,
   "metadata": {
    "collapsed": false
   },
   "outputs": [
    {
     "name": "stdout",
     "output_type": "stream",
     "text": [
      "\n",
      "Seizure Response  \n",
      "------------------ \n",
      "0    17098\n",
      "1     1460\n",
      "Name: seizure, dtype: int64\n"
     ]
    }
   ],
   "source": [
    "#---- Caluclate seizure value  = 1 if seizure7 =1 or seizure11 =1 or seizure16 =1 -----------#\n",
    "epilepsy_response['seizure'] = (\n",
    "                                (epilepsy_response.seizure7  == 1)\n",
    "                              | (epilepsy_response.seizure11 == 1)\n",
    "                              | (epilepsy_response.seizure16 == 1)    \n",
    "                               )*1\n",
    "\n",
    "print '\\nSeizure Response  \\n------------------ \\n' , epilepsy_response.seizure.value_counts()\n"
   ]
  },
  {
   "cell_type": "markdown",
   "metadata": {},
   "source": [
    "** Calculate our first Response Variable y_seizure **"
   ]
  },
  {
   "cell_type": "code",
   "execution_count": 242,
   "metadata": {
    "collapsed": true
   },
   "outputs": [],
   "source": [
    "#--------------------------------------------------------------------------------------#\n",
    "#-----  y_seizure   =   0      #---- Child didn't face any seizure attack          ----#\n",
    "#-----  y_seizure   =   1      #---- Child had faced at least one epilepsy attack  ----#\n",
    " y_seizure = epilepsy_response['seizure']\n",
    "#--------------------------------------------------------------------------------------#    "
   ]
  },
  {
   "cell_type": "markdown",
   "metadata": {},
   "source": [
    "### <span style=\"color:#F78181\">  3.2 Calculate our Second Response Variable  y_epilepsy  </span>\n"
   ]
  },
  {
   "cell_type": "markdown",
   "metadata": {},
   "source": [
    "- Epilepsy at age of 7,11, and 16 are clearly identified from ncds_archived_data_cfs_and_ibs_outcomes dataset using variables epilepsy7,epilepsy11,epilepsy16 as following :\n",
    "\n",
    "\n",
    "- Epilepsy7\n",
    "    - Pos. = 47 Variable = Epilepsy7 Variable label = 1M Epileptic condition\n",
    "         This variable is numeric, the SPSS measurement level is scale.\n",
    "            SPSS user missing values = -1 and -2\n",
    "            Value label information for Epilepsy7\n",
    "            Value = 0 Label = No\n",
    "            Value = 1 Label = Yes\n",
    " \n",
    "- Epilepsy11 \n",
    "     - Pos. = 101\tVariable = Epilepsy11\tVariable label = 2 Epilepy Derived variable\n",
    "         This variable is  numeric, the SPSS measurement level is scale.\n",
    "            SPSS user missing values = -1 and -2\n",
    "            Value label information for Epilepsy11\n",
    "            Value = 0\tLabel = No\n",
    "            Value = 1\tLabel = Yes\n",
    "- Epilepsy16\n",
    "    - Pos. = 130\tVariable = Epilepsy16\tVariable label = 3 Epilepsy Derived variable\n",
    "         This variable is  numeric, the SPSS measurement level is scale.\n",
    "            SPSS user missing values = -1 and -2\n",
    "            Value label information for Epilepsy16\n",
    "            Value = 0\tLabel = No\n",
    "            Value = 1\tLabel = Yes\n",
    "\n",
    "- Our Epilepsy Response Variable will =1 if Epilepsy7 =1 or Epilepsy11 =1 or Epilepsy16 =1"
   ]
  },
  {
   "cell_type": "code",
   "execution_count": 229,
   "metadata": {
    "collapsed": false
   },
   "outputs": [
    {
     "name": "stdout",
     "output_type": "stream",
     "text": [
      "Epilepsy at age of 7 \n",
      "--------------------- \n",
      "no     13901\n",
      "-1      4566\n",
      "yes       91\n",
      "Name: epilepsy7, dtype: int64\n",
      "\n",
      "Epilepsy at age of 11  \n",
      "--------------------- \n",
      "no     13371\n",
      "-1      4888\n",
      "yes      299\n",
      "Name: epilepsy11, dtype: int64\n",
      "\n",
      "Epilepsy at age of 16  \n",
      "--------------------- \n",
      "no     18393\n",
      "-1       119\n",
      "yes       46\n",
      "Name: epilepsy16, dtype: int64\n",
      "\n",
      "Epilepsy Response  \n",
      "------------------ \n",
      "0    18194\n",
      "1      364\n",
      "Name: epilepsy, dtype: int64\n"
     ]
    }
   ],
   "source": [
    "#---- Create new datafram epilepsy_response to hold epilepsy/seizure related variables --------#\n",
    "epilepsy_response=extended_df[['epilepsy7','epilepsy11','epilepsy16' ]]\n",
    "\n",
    "#---- Display the epilepsy7,11,16 distribution ---------------------------------#\n",
    "print 'Epilepsy at age of 7 \\n--------------------- \\n' ,epilepsy_response.epilepsy7.value_counts()\n",
    "\n",
    "print '\\nEpilepsy at age of 11  \\n--------------------- \\n' ,epilepsy_response.epilepsy11.value_counts()\n",
    "print '\\nEpilepsy at age of 16  \\n--------------------- \\n' ,epilepsy_response.epilepsy16.value_counts()\n",
    "\n",
    "\n",
    "#---- Caluclate epilepsy value  = 1 if Epilepsy7 =1 or Epilepsy11 =1 or Epilepsy16 =1 -----------#\n",
    "epilepsy_response['epilepsy'] = (\n",
    "                                (epilepsy_response.epilepsy7  == 'yes')\n",
    "                              | (epilepsy_response.epilepsy11 == 'yes')\n",
    "                              | (epilepsy_response.epilepsy16 == 'yes')    \n",
    "                               )*1\n",
    "\n",
    "print '\\nEpilepsy Response  \\n------------------ \\n' , epilepsy_response.epilepsy.value_counts()\n"
   ]
  },
  {
   "cell_type": "markdown",
   "metadata": {},
   "source": [
    "** Calculate our Second Response Variable y_epilepsy **"
   ]
  },
  {
   "cell_type": "code",
   "execution_count": 250,
   "metadata": {
    "collapsed": false
   },
   "outputs": [],
   "source": [
    "#-------------------------------------------------------------------------------------------------#\n",
    "#---- y_epilepsy  =  0       #---- child didn't face any seizue or epilepsy attack            ----#\n",
    "#---- y_epilepsy  =  1       #---- child had face seizue attack but didn't evolve to epilepsy ----#          ----#\n",
    "#---- y_epilepsy  =  2       #---- child had face seizure attack and evolve to epilepsy       ----#\n",
    "\n",
    "y_epilepsy = [0 if x==0 else 1 if (x==1 and y==1) else 2 if (x==1 and y==0) else 9 for\\\n",
    "           x, y in zip(epilepsy_response.seizure,epilepsy_response.epilepsy)]\n",
    "y_epilepsy = np.array(y_epilepsy)"
   ]
  },
  {
   "cell_type": "markdown",
   "metadata": {},
   "source": [
    "### <span style=\"color:#F78181\"> 3.3 Dropping all features used to build our predictors </span>\n",
    "\n",
    "\n",
    "- All above features used in y_seizure/y_epilepsy calculation are mainly represent the seizure/epilepsy identification either though medical identification or though parent feedback. \n",
    "\n",
    "\n",
    "- Our Model target is to predict Seizure/Epilepsy case without using Medical identification or Parents Feedback.\n",
    "\n",
    "\n",
    "- So after we calculated our response variables (y_seizure , y_epilepsy) using these feature we will drop them all and build a model to predict Seizure/Epilepsy case without making special medical test or asking for parents feedback.\n"
   ]
  },
  {
   "cell_type": "code",
   "execution_count": 234,
   "metadata": {
    "collapsed": false
   },
   "outputs": [
    {
     "name": "stdout",
     "output_type": "stream",
     "text": [
      "Drop done\n"
     ]
    }
   ],
   "source": [
    "data_main.drop('n1831', axis=1 , inplace=True)\n",
    "data_main.drop('n1832', axis=1 , inplace=True)\n",
    "data_main.drop('n1833', axis=1 , inplace=True)\n",
    "data_main.drop('n274', axis=1 , inplace=True)\n",
    "data_main.drop('n275', axis=1 , inplace=True)\n",
    "data_main.drop('n390', axis=1 , inplace=True)\n",
    "data_main.drop('n391', axis=1 , inplace=True)\n",
    "data_main.drop('n392', axis=1 , inplace=True)\n",
    "data_main.drop('n1314', axis=1 , inplace=True)\n",
    "data_main.drop('n1317', axis=1 , inplace=True)\n",
    "data_main.drop('n1502', axis=1 , inplace=True)\n",
    "data_main.drop('n2615', axis=1 , inplace=True)\n",
    "data_main.drop('n2616', axis=1 , inplace=True)\n",
    "data_main.drop('n1477', axis=1 , inplace=True)\n",
    "data_main.drop('n1478', axis=1 , inplace=True)\n",
    "data_main.drop('n1479', axis=1 , inplace=True)\n",
    "data_main.drop('n1307', axis=1 , inplace=True)\n",
    "data_main.drop('n1308', axis=1 , inplace=True)\n",
    "data_main.drop('n1309', axis=1 , inplace=True)\n",
    "data_main.drop('n1321', axis=1 , inplace=True)\n",
    "data_main.drop('n1322', axis=1 , inplace=True)\n",
    "data_main.drop('n1323', axis=1 , inplace=True)\n",
    "data_main.drop('n1324', axis=1 , inplace=True)\n",
    "data_main.drop('n1325', axis=1 , inplace=True)\n",
    "data_main.drop('n1337', axis=1 , inplace=True)\n",
    "data_main.drop('n1338', axis=1 , inplace=True)\n",
    "data_main.drop('n1394', axis=1 , inplace=True)\n",
    "data_main.drop('n1893', axis=1 , inplace=True)\n",
    "data_main.drop('n1894', axis=1 , inplace=True)\n",
    "data_main.drop('n1895', axis=1 , inplace=True)\n",
    "data_main.drop('n2663', axis=1 , inplace=True)\n",
    "data_main.drop('n2664', axis=1 , inplace=True)\n",
    "data_main.drop('n2665', axis=1 , inplace=True)\n",
    "data_main.drop('n2666', axis=1 , inplace=True)\n",
    "data_main.drop('n2667', axis=1 , inplace=True)\n",
    "data_main.drop('n1904', axis=1 , inplace=True)\n",
    "data_main.drop('n1910', axis=1 , inplace=True)\n",
    "data_main.drop('n2032', axis=1 , inplace=True)\n",
    "data_main.drop('n2554', axis=1 , inplace=True)\n",
    "data_main.drop('n2555', axis=1 , inplace=True)\n",
    "data_main.drop('n2556', axis=1 , inplace=True)\n",
    "data_main.drop('n2557', axis=1 , inplace=True)\n",
    "data_main.drop('n2558', axis=1 , inplace=True)\n",
    "data_main.drop('n2559', axis=1 , inplace=True)\n",
    "data_main.drop('n2598', axis=1 , inplace=True)\n",
    "data_main.drop('n2599', axis=1 , inplace=True)\n",
    "data_main.drop('n2600', axis=1 , inplace=True)\n",
    "data_main.drop('n2601', axis=1 , inplace=True)\n",
    "data_main.drop('n2603', axis=1 , inplace=True)\n",
    "data_main.drop('n2604', axis=1 , inplace=True)\n",
    "data_main.drop('n2605', axis=1 , inplace=True)\n",
    "data_main.drop('n2606', axis=1 , inplace=True)\n",
    "data_main.drop('n2607', axis=1 , inplace=True)\n",
    "data_main.drop('n2608', axis=1 , inplace=True)\n",
    "data_main.drop('n2614', axis=1 , inplace=True)\n",
    "data_main.drop('ncdsid', axis=1 , inplace=True)\n",
    "print ('Drop done')\n"
   ]
  },
  {
   "cell_type": "markdown",
   "metadata": {},
   "source": [
    "### <span style=\"color:#F78181\">  3.4 Give Model Features a Meaningfull Names </span>\n",
    "\n",
    "- In this step we will map the feacture names to thier meaning full name using **ncds0123_ukda_data_dictionary.txt** . \n",
    "- For example n1842 feature will change to it's meanfull name **Epilepsy_identification**\n",
    "- This step is essential for the important feature identifcation.\n"
   ]
  },
  {
   "cell_type": "code",
   "execution_count": 235,
   "metadata": {
    "collapsed": true
   },
   "outputs": [],
   "source": [
    "mapping_data = pd.read_csv('ncds0123_ukda_data_dictionary.txt',sep='\\t', error_bad_lines=False )"
   ]
  },
  {
   "cell_type": "code",
   "execution_count": 236,
   "metadata": {
    "collapsed": false
   },
   "outputs": [],
   "source": [
    "row_generator = mapping_data.iterrows()\n",
    "key = ''\n",
    "var_type = ''\n",
    "var_label = ''\n",
    "mapping_dict = {}\n",
    "\n",
    "\n",
    "for row in row_generator:\n",
    "    ordinal_test = str(row[1][0])\n",
    "    var_value = str(row[1][1])\n",
    "    label = str(row[1][2])\n",
    "\n",
    "    var_value_elems = [x.lower().strip() for x in var_value.split('=')]\n",
    "    label_elems = [x.lower().strip() for x in label.split('=')]\n",
    "\n",
    "    if 'measurement' in ordinal_test:\n",
    "        var_type = ordinal_test.split()[-1]\n",
    "\n",
    "    if var_value_elems[0] == 'variable':\n",
    "        key = var_value_elems[1]\n",
    "        var_label = label_elems[1]\n",
    "        mapping_dict[key] = {}\n",
    "        mapping_dict[key]['mapping'] = {}\n",
    "\n",
    "    if label_elems[0] == 'label' and var_value_elems[0] == 'value':\n",
    "        mapping_dict[key]['mapping'].update({float(var_value_elems[1]):label_elems[1]})\n",
    "        mapping_dict[key]['type'] = var_type\n",
    "        mapping_dict[key]['label'] = var_label"
   ]
  },
  {
   "cell_type": "code",
   "execution_count": 237,
   "metadata": {
    "collapsed": true
   },
   "outputs": [],
   "source": [
    "mapping_columns = {x : y for x, y in mapping_dict.items() if x != 'ncdsid'}\n",
    "mapping_columns = {x : y for x, y in mapping_columns.items() if len(y['mapping'].keys()) > 1}\n",
    "non_mapping_columns = {x:y for x,y in mapping_dict.items() if x not in mapping_columns.keys()}"
   ]
  },
  {
   "cell_type": "code",
   "execution_count": 239,
   "metadata": {
    "collapsed": false
   },
   "outputs": [
    {
     "name": "stdout",
     "output_type": "stream",
     "text": [
      "(18558, 1709)\n"
     ]
    }
   ],
   "source": [
    "data_main_mapped = data_main.copy()\n",
    "x = 1\n",
    "print data_main_mapped.shape\n",
    "for i, c_name in enumerate(mapping_columns.keys()):\n",
    "    data_main_mapped[mapping_columns[c_name]['label']] = \\\n",
    "    data_main_mapped[c_name].map(mapping_dict[c_name]['mapping'], 'ignore')\n",
    "    if data_main_mapped.shape[1] != data_main.shape[1]+i+x:\n",
    "        #print c_name\n",
    "        x -= 1\n",
    "\n",
    "data_main_mapped.drop(mapping_columns.keys(), 1, inplace=True)\n",
    "data_main_mapped.shape\n",
    "new_labels = [non_mapping_columns[x]['label'] if x in non_mapping_columns.keys() \\\n",
    "              and x != 'ncdsid' else x for x in data_main_mapped.columns]\n",
    "data_main_mapped.columns = new_labels"
   ]
  },
  {
   "cell_type": "code",
   "execution_count": 244,
   "metadata": {
    "collapsed": true
   },
   "outputs": [],
   "source": [
    "x_model_features = data_main_mapped.copy()"
   ]
  },
  {
   "cell_type": "markdown",
   "metadata": {},
   "source": [
    "### <span style=\"color:#F78181\">  3.5 Display  model features and response variables dimenstion </span>"
   ]
  },
  {
   "cell_type": "code",
   "execution_count": 254,
   "metadata": {
    "collapsed": false
   },
   "outputs": [
    {
     "name": "stdout",
     "output_type": "stream",
     "text": [
      "Model Feature Shape              :  (18558, 1705)\n",
      "First Response y_seizure Shape   :  (18558L,)\n",
      "Second Response y_epilepsy Shape :  (18558L,)\n"
     ]
    }
   ],
   "source": [
    "print 'Model Feature Shape              : ' , x_model_features.shape\n",
    "print 'First Response y_seizure Shape   : ', y_seizure.shape\n",
    "print 'Second Response y_epilepsy Shape : ' , y_epilepsy.shape"
   ]
  },
  {
   "cell_type": "markdown",
   "metadata": {},
   "source": [
    "# <span style=\"color:#08088A\"> Stage 4: Data Cleaning and Missing value handling  </span>"
   ]
  }
 ],
 "metadata": {
  "anaconda-cloud": {},
  "kernelspec": {
   "display_name": "Python [default]",
   "language": "python",
   "name": "python2"
  },
  "language_info": {
   "codemirror_mode": {
    "name": "ipython",
    "version": 2
   },
   "file_extension": ".py",
   "mimetype": "text/x-python",
   "name": "python",
   "nbconvert_exporter": "python",
   "pygments_lexer": "ipython2",
   "version": "2.7.12"
  }
 },
 "nbformat": 4,
 "nbformat_minor": 0
}
